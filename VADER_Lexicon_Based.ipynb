{
  "nbformat": 4,
  "nbformat_minor": 0,
  "metadata": {
    "colab": {
      "provenance": []
    },
    "kernelspec": {
      "name": "python3",
      "display_name": "Python 3"
    },
    "language_info": {
      "name": "python"
    }
  },
  "cells": [
    {
      "cell_type": "code",
      "execution_count": null,
      "metadata": {
        "colab": {
          "base_uri": "https://localhost:8080/"
        },
        "id": "nuMSYH5-UKwt",
        "outputId": "714a59e6-03f4-4a47-ea79-866b400ff769"
      },
      "outputs": [
        {
          "output_type": "stream",
          "name": "stdout",
          "text": [
            "Mounted at /content/drive\n"
          ]
        }
      ],
      "source": [
        "from google.colab import drive\n",
        "drive.mount('/content/drive')"
      ]
    },
    {
      "cell_type": "code",
      "source": [
        "import pandas as pd\n",
        "import re\n",
        "import nltk\n",
        "nltk.download('stopwords')\n",
        "from nltk.corpus import stopwords\n",
        "import nltk\n",
        "nltk.download('vader_lexicon')\n",
        "from nltk.sentiment.vader import SentimentIntensityAnalyzer\n",
        "import wordcloud\n",
        "from collections import Counter\n",
        "import matplotlib.pyplot as plt\n",
        "from sklearn.model_selection import train_test_split\n",
        "from sklearn.metrics import confusion_matrix \n",
        "from sklearn.metrics import accuracy_score \n",
        "from sklearn.metrics import f1_score\n",
        "from sklearn.metrics import precision_score\n",
        "from sklearn.metrics import recall_score\n",
        "from sklearn.metrics import classification_report \n",
        "import matplotlib.pyplot as plt\n",
        "import numpy as np\n",
        "import seaborn as sns"
      ],
      "metadata": {
        "colab": {
          "base_uri": "https://localhost:8080/",
          "height": 130
        },
        "id": "rPSIislknPLp",
        "outputId": "3d7909c3-9436-4756-92a9-9432685d5fb8"
      },
      "execution_count": null,
      "outputs": [
        {
          "output_type": "error",
          "ename": "SyntaxError",
          "evalue": "ignored",
          "traceback": [
            "\u001b[0;36m  File \u001b[0;32m\"<ipython-input-118-c44ef0ced410>\"\u001b[0;36m, line \u001b[0;32m22\u001b[0m\n\u001b[0;31m    pip install afinn\u001b[0m\n\u001b[0m              ^\u001b[0m\n\u001b[0;31mSyntaxError\u001b[0m\u001b[0;31m:\u001b[0m invalid syntax\n"
          ]
        }
      ]
    },
    {
      "cell_type": "code",
      "source": [
        "df = pd.read_csv('/content/drive/MyDrive/Daily_Routine_Code/Natural_Language_Processing/apple-twitter-sentiment-texts.csv', encoding = \"ISO-8859-1\",header=0)\n",
        "df.tail()"
      ],
      "metadata": {
        "colab": {
          "base_uri": "https://localhost:8080/",
          "height": 206
        },
        "id": "sYevRZowVVjS",
        "outputId": "3dff51b2-58b0-49e9-e73f-230227845d2c"
      },
      "execution_count": null,
      "outputs": [
        {
          "output_type": "execute_result",
          "data": {
            "text/html": [
              "<div>\n",
              "<style scoped>\n",
              "    .dataframe tbody tr th:only-of-type {\n",
              "        vertical-align: middle;\n",
              "    }\n",
              "\n",
              "    .dataframe tbody tr th {\n",
              "        vertical-align: top;\n",
              "    }\n",
              "\n",
              "    .dataframe thead th {\n",
              "        text-align: right;\n",
              "    }\n",
              "</style>\n",
              "<table border=\"1\" class=\"dataframe\">\n",
              "  <thead>\n",
              "    <tr style=\"text-align: right;\">\n",
              "      <th></th>\n",
              "      <th>ï»¿text</th>\n",
              "      <th>sentiment</th>\n",
              "    </tr>\n",
              "  </thead>\n",
              "  <tbody>\n",
              "    <tr>\n",
              "      <th>1625</th>\n",
              "      <td>Those** PICK UP THE SLACK YOU FUCK BOYS @Apple</td>\n",
              "      <td>-1</td>\n",
              "    </tr>\n",
              "    <tr>\n",
              "      <th>1626</th>\n",
              "      <td>Finally got my iPhone 6 in the mail and it com...</td>\n",
              "      <td>-1</td>\n",
              "    </tr>\n",
              "    <tr>\n",
              "      <th>1627</th>\n",
              "      <td>@umo_games @Apple ended up getting a new compu...</td>\n",
              "      <td>0</td>\n",
              "    </tr>\n",
              "    <tr>\n",
              "      <th>1628</th>\n",
              "      <td>The 19-Year-Old #WizKid Who Turned Down @Apple...</td>\n",
              "      <td>0</td>\n",
              "    </tr>\n",
              "    <tr>\n",
              "      <th>1629</th>\n",
              "      <td>The iPhone 6 May Have A Longer Upgrade Cycle -...</td>\n",
              "      <td>-1</td>\n",
              "    </tr>\n",
              "  </tbody>\n",
              "</table>\n",
              "</div>"
            ],
            "text/plain": [
              "                                                ï»¿text  sentiment\n",
              "1625     Those** PICK UP THE SLACK YOU FUCK BOYS @Apple         -1\n",
              "1626  Finally got my iPhone 6 in the mail and it com...         -1\n",
              "1627  @umo_games @Apple ended up getting a new compu...          0\n",
              "1628  The 19-Year-Old #WizKid Who Turned Down @Apple...          0\n",
              "1629  The iPhone 6 May Have A Longer Upgrade Cycle -...         -1"
            ]
          },
          "metadata": {},
          "execution_count": 169
        }
      ]
    },
    {
      "cell_type": "code",
      "source": [
        "df = df[df['ï»¿text'].notnull()]"
      ],
      "metadata": {
        "id": "tIN-WqwLplQh"
      },
      "execution_count": null,
      "outputs": []
    },
    {
      "cell_type": "code",
      "source": [
        "df.rename(columns={\"ï»¿text\":\"tweet\",\"sentiment\":\"category\"},inplace=True)\n",
        "df.head(5)"
      ],
      "metadata": {
        "colab": {
          "base_uri": "https://localhost:8080/",
          "height": 206
        },
        "id": "5rA1b_M1Numy",
        "outputId": "4118b249-320b-4272-a2cb-15f61bcc62e9"
      },
      "execution_count": null,
      "outputs": [
        {
          "output_type": "execute_result",
          "data": {
            "text/html": [
              "<div>\n",
              "<style scoped>\n",
              "    .dataframe tbody tr th:only-of-type {\n",
              "        vertical-align: middle;\n",
              "    }\n",
              "\n",
              "    .dataframe tbody tr th {\n",
              "        vertical-align: top;\n",
              "    }\n",
              "\n",
              "    .dataframe thead th {\n",
              "        text-align: right;\n",
              "    }\n",
              "</style>\n",
              "<table border=\"1\" class=\"dataframe\">\n",
              "  <thead>\n",
              "    <tr style=\"text-align: right;\">\n",
              "      <th></th>\n",
              "      <th>tweet</th>\n",
              "      <th>category</th>\n",
              "    </tr>\n",
              "  </thead>\n",
              "  <tbody>\n",
              "    <tr>\n",
              "      <th>0</th>\n",
              "      <td>Wow. Yall needa step it up @Apple RT @heynyla:...</td>\n",
              "      <td>-1</td>\n",
              "    </tr>\n",
              "    <tr>\n",
              "      <th>1</th>\n",
              "      <td>What Happened To Apple Inc?   http://t.co/FJEX...</td>\n",
              "      <td>0</td>\n",
              "    </tr>\n",
              "    <tr>\n",
              "      <th>2</th>\n",
              "      <td>Thank u @apple I can now compile all of the pi...</td>\n",
              "      <td>1</td>\n",
              "    </tr>\n",
              "    <tr>\n",
              "      <th>3</th>\n",
              "      <td>The oddly uplifting story of the Apple co-foun...</td>\n",
              "      <td>0</td>\n",
              "    </tr>\n",
              "    <tr>\n",
              "      <th>4</th>\n",
              "      <td>@apple can i exchange my iphone for a differen...</td>\n",
              "      <td>0</td>\n",
              "    </tr>\n",
              "  </tbody>\n",
              "</table>\n",
              "</div>"
            ],
            "text/plain": [
              "                                               tweet  category\n",
              "0  Wow. Yall needa step it up @Apple RT @heynyla:...        -1\n",
              "1  What Happened To Apple Inc?   http://t.co/FJEX...         0\n",
              "2  Thank u @apple I can now compile all of the pi...         1\n",
              "3  The oddly uplifting story of the Apple co-foun...         0\n",
              "4  @apple can i exchange my iphone for a differen...         0"
            ]
          },
          "metadata": {},
          "execution_count": 171
        }
      ]
    },
    {
      "cell_type": "code",
      "source": [
        "df.info()"
      ],
      "metadata": {
        "colab": {
          "base_uri": "https://localhost:8080/"
        },
        "id": "fgPuJrNlnuRn",
        "outputId": "b4a380e9-c0dc-4602-f214-102417c9f4c7"
      },
      "execution_count": null,
      "outputs": [
        {
          "output_type": "stream",
          "name": "stdout",
          "text": [
            "<class 'pandas.core.frame.DataFrame'>\n",
            "Int64Index: 1630 entries, 0 to 1629\n",
            "Data columns (total 2 columns):\n",
            " #   Column    Non-Null Count  Dtype \n",
            "---  ------    --------------  ----- \n",
            " 0   tweet     1630 non-null   object\n",
            " 1   category  1630 non-null   int64 \n",
            "dtypes: int64(1), object(1)\n",
            "memory usage: 38.2+ KB\n"
          ]
        }
      ]
    },
    {
      "cell_type": "code",
      "source": [
        "# df=df.iloc[0:1000]"
      ],
      "metadata": {
        "id": "xHiZEq79rZ0b"
      },
      "execution_count": null,
      "outputs": []
    },
    {
      "cell_type": "code",
      "source": [
        "len(df)"
      ],
      "metadata": {
        "colab": {
          "base_uri": "https://localhost:8080/"
        },
        "id": "fcBGTfplWtf7",
        "outputId": "7203c6fd-ac9a-4164-dc0e-9b02e488ae09"
      },
      "execution_count": null,
      "outputs": [
        {
          "output_type": "execute_result",
          "data": {
            "text/plain": [
              "1630"
            ]
          },
          "metadata": {},
          "execution_count": 174
        }
      ]
    },
    {
      "cell_type": "code",
      "source": [
        "from nltk.stem.wordnet import WordNetLemmatizer\n",
        "import nltk\n",
        "nltk.download('wordnet')\n",
        "lemma=WordNetLemmatizer()\n",
        "df[\"tweet_lemma\"]=df[\"tweet\"].apply(lambda x:  ' '.join([lemma.lemmatize(word,'v') for word in x.split()]))"
      ],
      "metadata": {
        "colab": {
          "base_uri": "https://localhost:8080/"
        },
        "id": "FLVMOMS4xool",
        "outputId": "23f53ce1-a595-4169-c930-71030c6053f8"
      },
      "execution_count": null,
      "outputs": [
        {
          "output_type": "stream",
          "name": "stdout",
          "text": [
            "[nltk_data] Downloading package wordnet to /root/nltk_data...\n",
            "[nltk_data]   Package wordnet is already up-to-date!\n"
          ]
        }
      ]
    },
    {
      "cell_type": "code",
      "source": [
        "print(df[\"tweet_lemma\"])"
      ],
      "metadata": {
        "colab": {
          "base_uri": "https://localhost:8080/"
        },
        "id": "Gf3byP1xx_R7",
        "outputId": "2a6ac4b4-583d-491a-972d-001079455517"
      },
      "execution_count": null,
      "outputs": [
        {
          "output_type": "stream",
          "name": "stdout",
          "text": [
            "0       Wow. Yall needa step it up @Apple RT @heynyla:...\n",
            "1       What Happened To Apple Inc? http://t.co/FJEXI3...\n",
            "2       Thank u @apple I can now compile all of the pi...\n",
            "3       The oddly uplift story of the Apple co-founder...\n",
            "4       @apple can i exchange my iphone for a differen...\n",
            "                              ...                        \n",
            "1625       Those** PICK UP THE SLACK YOU FUCK BOYS @Apple\n",
            "1626    Finally get my iPhone 6 in the mail and it com...\n",
            "1627    @umo_games @Apple end up get a new computer an...\n",
            "1628    The 19-Year-Old #WizKid Who Turned Down @Apple...\n",
            "1629    The iPhone 6 May Have A Longer Upgrade Cycle -...\n",
            "Name: tweet_lemma, Length: 1630, dtype: object\n"
          ]
        }
      ]
    },
    {
      "cell_type": "code",
      "source": [
        "df.info()"
      ],
      "metadata": {
        "colab": {
          "base_uri": "https://localhost:8080/"
        },
        "id": "W1K6wdnodxJx",
        "outputId": "d94c20d8-f243-498b-a79b-fa24686ffa69"
      },
      "execution_count": null,
      "outputs": [
        {
          "output_type": "stream",
          "name": "stdout",
          "text": [
            "<class 'pandas.core.frame.DataFrame'>\n",
            "Int64Index: 1630 entries, 0 to 1629\n",
            "Data columns (total 3 columns):\n",
            " #   Column       Non-Null Count  Dtype \n",
            "---  ------       --------------  ----- \n",
            " 0   tweet        1630 non-null   object\n",
            " 1   category     1630 non-null   int64 \n",
            " 2   tweet_lemma  1630 non-null   object\n",
            "dtypes: int64(1), object(2)\n",
            "memory usage: 50.9+ KB\n"
          ]
        }
      ]
    },
    {
      "cell_type": "code",
      "source": [
        "stop = stopwords.words('english')"
      ],
      "metadata": {
        "id": "iBdtzUEXhmju"
      },
      "execution_count": null,
      "outputs": []
    },
    {
      "cell_type": "code",
      "source": [
        "df['tweet_without_stopwords'] = df['tweet_lemma'].apply(lambda x: ' '.join([word.lower() for word in x.split() if word not in (stop)]))\n",
        "print(df)"
      ],
      "metadata": {
        "colab": {
          "base_uri": "https://localhost:8080/"
        },
        "id": "yq0R9Vmqh4qs",
        "outputId": "9f3dae1d-e2f8-4eef-d5af-61ae7ae0c55e"
      },
      "execution_count": null,
      "outputs": [
        {
          "output_type": "stream",
          "name": "stdout",
          "text": [
            "                                                  tweet  ...                            tweet_without_stopwords\n",
            "0     Wow. Yall needa step it up @Apple RT @heynyla:...  ...  wow. yall needa step @apple rt @heynyla: music...\n",
            "1     What Happened To Apple Inc?   http://t.co/FJEX...  ...  what happened to apple inc? http://t.co/fjexi3...\n",
            "2     Thank u @apple I can now compile all of the pi...  ...  thank u @apple i compile pics communicate one ...\n",
            "3     The oddly uplifting story of the Apple co-foun...  ...  the oddly uplift story apple co-founder sell s...\n",
            "4     @apple can i exchange my iphone for a differen...  ...  @apple exchange iphone different color lmao ch...\n",
            "...                                                 ...  ...                                                ...\n",
            "1625     Those** PICK UP THE SLACK YOU FUCK BOYS @Apple  ...     those** pick up the slack you fuck boys @apple\n",
            "1626  Finally got my iPhone 6 in the mail and it com...  ...  finally get iphone 6 mail come box bust screen...\n",
            "1627  @umo_games @Apple ended up getting a new compu...  ...  @umo_games @apple end get new computer anyhow ...\n",
            "1628  The 19-Year-Old #WizKid Who Turned Down @Apple...  ...  the 19-year-old #wizkid who turned down @apple...\n",
            "1629  The iPhone 6 May Have A Longer Upgrade Cycle -...  ...  the iphone 6 may have a longer upgrade cycle -...\n",
            "\n",
            "[1630 rows x 4 columns]\n"
          ]
        }
      ]
    },
    {
      "cell_type": "code",
      "source": [
        "df.head()"
      ],
      "metadata": {
        "colab": {
          "base_uri": "https://localhost:8080/",
          "height": 206
        },
        "id": "klr36ytliH3s",
        "outputId": "ed4c5157-d870-4fd8-f79e-10120c6d9cc5"
      },
      "execution_count": null,
      "outputs": [
        {
          "output_type": "execute_result",
          "data": {
            "text/html": [
              "<div>\n",
              "<style scoped>\n",
              "    .dataframe tbody tr th:only-of-type {\n",
              "        vertical-align: middle;\n",
              "    }\n",
              "\n",
              "    .dataframe tbody tr th {\n",
              "        vertical-align: top;\n",
              "    }\n",
              "\n",
              "    .dataframe thead th {\n",
              "        text-align: right;\n",
              "    }\n",
              "</style>\n",
              "<table border=\"1\" class=\"dataframe\">\n",
              "  <thead>\n",
              "    <tr style=\"text-align: right;\">\n",
              "      <th></th>\n",
              "      <th>tweet</th>\n",
              "      <th>category</th>\n",
              "      <th>tweet_lemma</th>\n",
              "      <th>tweet_without_stopwords</th>\n",
              "    </tr>\n",
              "  </thead>\n",
              "  <tbody>\n",
              "    <tr>\n",
              "      <th>0</th>\n",
              "      <td>Wow. Yall needa step it up @Apple RT @heynyla:...</td>\n",
              "      <td>-1</td>\n",
              "      <td>Wow. Yall needa step it up @Apple RT @heynyla:...</td>\n",
              "      <td>wow. yall needa step @apple rt @heynyla: music...</td>\n",
              "    </tr>\n",
              "    <tr>\n",
              "      <th>1</th>\n",
              "      <td>What Happened To Apple Inc?   http://t.co/FJEX...</td>\n",
              "      <td>0</td>\n",
              "      <td>What Happened To Apple Inc? http://t.co/FJEXI3...</td>\n",
              "      <td>what happened to apple inc? http://t.co/fjexi3...</td>\n",
              "    </tr>\n",
              "    <tr>\n",
              "      <th>2</th>\n",
              "      <td>Thank u @apple I can now compile all of the pi...</td>\n",
              "      <td>1</td>\n",
              "      <td>Thank u @apple I can now compile all of the pi...</td>\n",
              "      <td>thank u @apple i compile pics communicate one ...</td>\n",
              "    </tr>\n",
              "    <tr>\n",
              "      <th>3</th>\n",
              "      <td>The oddly uplifting story of the Apple co-foun...</td>\n",
              "      <td>0</td>\n",
              "      <td>The oddly uplift story of the Apple co-founder...</td>\n",
              "      <td>the oddly uplift story apple co-founder sell s...</td>\n",
              "    </tr>\n",
              "    <tr>\n",
              "      <th>4</th>\n",
              "      <td>@apple can i exchange my iphone for a differen...</td>\n",
              "      <td>0</td>\n",
              "      <td>@apple can i exchange my iphone for a differen...</td>\n",
              "      <td>@apple exchange iphone different color lmao ch...</td>\n",
              "    </tr>\n",
              "  </tbody>\n",
              "</table>\n",
              "</div>"
            ],
            "text/plain": [
              "                                               tweet  ...                            tweet_without_stopwords\n",
              "0  Wow. Yall needa step it up @Apple RT @heynyla:...  ...  wow. yall needa step @apple rt @heynyla: music...\n",
              "1  What Happened To Apple Inc?   http://t.co/FJEX...  ...  what happened to apple inc? http://t.co/fjexi3...\n",
              "2  Thank u @apple I can now compile all of the pi...  ...  thank u @apple i compile pics communicate one ...\n",
              "3  The oddly uplifting story of the Apple co-foun...  ...  the oddly uplift story apple co-founder sell s...\n",
              "4  @apple can i exchange my iphone for a differen...  ...  @apple exchange iphone different color lmao ch...\n",
              "\n",
              "[5 rows x 4 columns]"
            ]
          },
          "metadata": {},
          "execution_count": 180
        }
      ]
    },
    {
      "cell_type": "code",
      "source": [
        "def clean_tweets(tweet):\n",
        "    # processedText = []\n",
        "\n",
        "    # # Create Lemmatizer and Stemmer.\n",
        "    # wordLemm = WordNetLemmatizer()\n",
        "\n",
        "    tweet = re.sub(r\"(?:\\@|https?\\://)\\S+\", \"\", tweet)\n",
        "    # tweet = re.sub(r\"@[A-Za-z0-9_]+\",\"\", tweet)\n",
        "    # tweet = re.sub(r\"#[A-Za-z0-9_]+\",\"\", tweet)\n",
        "   #after tweepy preprocessing the colon left remain after removing mentions\n",
        "    #or RT sign in the beginning of the tweet\n",
        "    tweet = re.sub(r':', '', tweet)\n",
        "    tweet = re.sub(r'‚Ä¶', '', tweet)\n",
        "    #replace consecutive non-ASCII characters with a space\n",
        "    tweet = re.sub(r'[^\\x00-\\x7F]+',' ', tweet)\n",
        "\n",
        "    #remove emojis from tweet\n",
        "    #tweet = emoji_pattern.sub(r'', tweet)\n",
        "    \n",
        "    #remove punctuation manually\n",
        "    tweet = re.sub('[^a-zA-Z]', ' ', tweet)\n",
        "    \n",
        "    # #remove tags\n",
        "    # tweet=re.sub(\"&lt;/?.*?&gt;\",\"&lt;&gt;\",tweet)\n",
        "    \n",
        "    #remove digits and special chars\n",
        "    tweet=re.sub(\"(\\\\d|\\\\W)+\",\" \",tweet)\n",
        "\n",
        "    #remove other symbol from tweet\n",
        "    tweet = re.sub(r'â', '', tweet)\n",
        "    tweet = re.sub(r'€', '', tweet)\n",
        "    tweet = re.sub(r'¦', '', tweet)\n",
        "    # tweet = re.sub(r'#\\w+ ?', '', tweet)\n",
        "    # tweet = re.sub(r'http\\S+', '', tweet)\n",
        "    \n",
        "    # tweetwords = ''\n",
        "    # for word in tweet.split():\n",
        "    #         # Checking if the word is a stopword.\n",
        "    #         #if word not in stopwordlist:\n",
        "    #         if len(word)>1:\n",
        "    #             # Lemmatizing the word.\n",
        "    #             word = wordLemm.lemmatize(word)\n",
        "    #             tweetwords += (word+' ')\n",
        "    #         processedText.append(tweetwords)\n",
        "\n",
        "    return tweet"
      ],
      "metadata": {
        "id": "I0rBuyQ_iOiD"
      },
      "execution_count": null,
      "outputs": []
    },
    {
      "cell_type": "code",
      "source": [
        "df['tweet_clean'] = df['tweet_without_stopwords'].apply(lambda x: clean_tweets(x))"
      ],
      "metadata": {
        "id": "j8coKpzlnA3q"
      },
      "execution_count": null,
      "outputs": []
    },
    {
      "cell_type": "code",
      "source": [
        "df.head()"
      ],
      "metadata": {
        "colab": {
          "base_uri": "https://localhost:8080/",
          "height": 258
        },
        "id": "-iJ1g30dnH1U",
        "outputId": "3efa0d9d-d2b8-41b1-99b5-14ebdb8588f2"
      },
      "execution_count": null,
      "outputs": [
        {
          "output_type": "execute_result",
          "data": {
            "text/html": [
              "<div>\n",
              "<style scoped>\n",
              "    .dataframe tbody tr th:only-of-type {\n",
              "        vertical-align: middle;\n",
              "    }\n",
              "\n",
              "    .dataframe tbody tr th {\n",
              "        vertical-align: top;\n",
              "    }\n",
              "\n",
              "    .dataframe thead th {\n",
              "        text-align: right;\n",
              "    }\n",
              "</style>\n",
              "<table border=\"1\" class=\"dataframe\">\n",
              "  <thead>\n",
              "    <tr style=\"text-align: right;\">\n",
              "      <th></th>\n",
              "      <th>tweet</th>\n",
              "      <th>category</th>\n",
              "      <th>tweet_lemma</th>\n",
              "      <th>tweet_without_stopwords</th>\n",
              "      <th>tweet_clean</th>\n",
              "    </tr>\n",
              "  </thead>\n",
              "  <tbody>\n",
              "    <tr>\n",
              "      <th>0</th>\n",
              "      <td>Wow. Yall needa step it up @Apple RT @heynyla:...</td>\n",
              "      <td>-1</td>\n",
              "      <td>Wow. Yall needa step it up @Apple RT @heynyla:...</td>\n",
              "      <td>wow. yall needa step @apple rt @heynyla: music...</td>\n",
              "      <td>wow yall needa step rt music snapchat damn tim...</td>\n",
              "    </tr>\n",
              "    <tr>\n",
              "      <th>1</th>\n",
              "      <td>What Happened To Apple Inc?   http://t.co/FJEX...</td>\n",
              "      <td>0</td>\n",
              "      <td>What Happened To Apple Inc? http://t.co/FJEXI3...</td>\n",
              "      <td>what happened to apple inc? http://t.co/fjexi3...</td>\n",
              "      <td>what happened to apple inc aapl apple</td>\n",
              "    </tr>\n",
              "    <tr>\n",
              "      <th>2</th>\n",
              "      <td>Thank u @apple I can now compile all of the pi...</td>\n",
              "      <td>1</td>\n",
              "      <td>Thank u @apple I can now compile all of the pi...</td>\n",
              "      <td>thank u @apple i compile pics communicate one ...</td>\n",
              "      <td>thank u i compile pics communicate one place</td>\n",
              "    </tr>\n",
              "    <tr>\n",
              "      <th>3</th>\n",
              "      <td>The oddly uplifting story of the Apple co-foun...</td>\n",
              "      <td>0</td>\n",
              "      <td>The oddly uplift story of the Apple co-founder...</td>\n",
              "      <td>the oddly uplift story apple co-founder sell s...</td>\n",
              "      <td>the oddly uplift story apple co founder sell s...</td>\n",
              "    </tr>\n",
              "    <tr>\n",
              "      <th>4</th>\n",
              "      <td>@apple can i exchange my iphone for a differen...</td>\n",
              "      <td>0</td>\n",
              "      <td>@apple can i exchange my iphone for a differen...</td>\n",
              "      <td>@apple exchange iphone different color lmao ch...</td>\n",
              "      <td>exchange iphone different color lmao change mind</td>\n",
              "    </tr>\n",
              "  </tbody>\n",
              "</table>\n",
              "</div>"
            ],
            "text/plain": [
              "                                               tweet  ...                                        tweet_clean\n",
              "0  Wow. Yall needa step it up @Apple RT @heynyla:...  ...  wow yall needa step rt music snapchat damn tim...\n",
              "1  What Happened To Apple Inc?   http://t.co/FJEX...  ...             what happened to apple inc aapl apple \n",
              "2  Thank u @apple I can now compile all of the pi...  ...      thank u i compile pics communicate one place \n",
              "3  The oddly uplifting story of the Apple co-foun...  ...  the oddly uplift story apple co founder sell s...\n",
              "4  @apple can i exchange my iphone for a differen...  ...   exchange iphone different color lmao change mind\n",
              "\n",
              "[5 rows x 5 columns]"
            ]
          },
          "metadata": {},
          "execution_count": 183
        }
      ]
    },
    {
      "cell_type": "code",
      "source": [
        "df[\"tweet_clean\"].head()"
      ],
      "metadata": {
        "colab": {
          "base_uri": "https://localhost:8080/"
        },
        "id": "5r4aA_vzaN-g",
        "outputId": "39eccd49-c447-4c35-aa26-8cf8a3b62454"
      },
      "execution_count": null,
      "outputs": [
        {
          "output_type": "execute_result",
          "data": {
            "text/plain": [
              "0    wow yall needa step rt music snapchat damn tim...\n",
              "1               what happened to apple inc aapl apple \n",
              "2        thank u i compile pics communicate one place \n",
              "3    the oddly uplift story apple co founder sell s...\n",
              "4     exchange iphone different color lmao change mind\n",
              "Name: tweet_clean, dtype: object"
            ]
          },
          "metadata": {},
          "execution_count": 184
        }
      ]
    },
    {
      "cell_type": "code",
      "source": [
        "df['sentiment']=''\n",
        "df.loc[df.category==1,'sentiment']='POSITIVE'\n",
        "df.loc[df.category==0, 'sentiment']='NEUTRAL'\n",
        "df.loc[df.category==-1, 'sentiment']='NEGATIVE'"
      ],
      "metadata": {
        "id": "HK4gyb5jQ_hS"
      },
      "execution_count": null,
      "outputs": []
    },
    {
      "cell_type": "code",
      "source": [
        "df.head()"
      ],
      "metadata": {
        "colab": {
          "base_uri": "https://localhost:8080/",
          "height": 275
        },
        "id": "EdZq2hGmqUgZ",
        "outputId": "9b2da9d2-4227-48f8-a6c9-1aabffc9bd8f"
      },
      "execution_count": null,
      "outputs": [
        {
          "output_type": "execute_result",
          "data": {
            "text/html": [
              "<div>\n",
              "<style scoped>\n",
              "    .dataframe tbody tr th:only-of-type {\n",
              "        vertical-align: middle;\n",
              "    }\n",
              "\n",
              "    .dataframe tbody tr th {\n",
              "        vertical-align: top;\n",
              "    }\n",
              "\n",
              "    .dataframe thead th {\n",
              "        text-align: right;\n",
              "    }\n",
              "</style>\n",
              "<table border=\"1\" class=\"dataframe\">\n",
              "  <thead>\n",
              "    <tr style=\"text-align: right;\">\n",
              "      <th></th>\n",
              "      <th>tweet</th>\n",
              "      <th>category</th>\n",
              "      <th>tweet_lemma</th>\n",
              "      <th>tweet_without_stopwords</th>\n",
              "      <th>tweet_clean</th>\n",
              "      <th>sentiment</th>\n",
              "    </tr>\n",
              "  </thead>\n",
              "  <tbody>\n",
              "    <tr>\n",
              "      <th>0</th>\n",
              "      <td>Wow. Yall needa step it up @Apple RT @heynyla:...</td>\n",
              "      <td>-1</td>\n",
              "      <td>Wow. Yall needa step it up @Apple RT @heynyla:...</td>\n",
              "      <td>wow. yall needa step @apple rt @heynyla: music...</td>\n",
              "      <td>wow yall needa step rt music snapchat damn tim...</td>\n",
              "      <td>NEGATIVE</td>\n",
              "    </tr>\n",
              "    <tr>\n",
              "      <th>1</th>\n",
              "      <td>What Happened To Apple Inc?   http://t.co/FJEX...</td>\n",
              "      <td>0</td>\n",
              "      <td>What Happened To Apple Inc? http://t.co/FJEXI3...</td>\n",
              "      <td>what happened to apple inc? http://t.co/fjexi3...</td>\n",
              "      <td>what happened to apple inc aapl apple</td>\n",
              "      <td>NEUTRAL</td>\n",
              "    </tr>\n",
              "    <tr>\n",
              "      <th>2</th>\n",
              "      <td>Thank u @apple I can now compile all of the pi...</td>\n",
              "      <td>1</td>\n",
              "      <td>Thank u @apple I can now compile all of the pi...</td>\n",
              "      <td>thank u @apple i compile pics communicate one ...</td>\n",
              "      <td>thank u i compile pics communicate one place</td>\n",
              "      <td>POSITIVE</td>\n",
              "    </tr>\n",
              "    <tr>\n",
              "      <th>3</th>\n",
              "      <td>The oddly uplifting story of the Apple co-foun...</td>\n",
              "      <td>0</td>\n",
              "      <td>The oddly uplift story of the Apple co-founder...</td>\n",
              "      <td>the oddly uplift story apple co-founder sell s...</td>\n",
              "      <td>the oddly uplift story apple co founder sell s...</td>\n",
              "      <td>NEUTRAL</td>\n",
              "    </tr>\n",
              "    <tr>\n",
              "      <th>4</th>\n",
              "      <td>@apple can i exchange my iphone for a differen...</td>\n",
              "      <td>0</td>\n",
              "      <td>@apple can i exchange my iphone for a differen...</td>\n",
              "      <td>@apple exchange iphone different color lmao ch...</td>\n",
              "      <td>exchange iphone different color lmao change mind</td>\n",
              "      <td>NEUTRAL</td>\n",
              "    </tr>\n",
              "  </tbody>\n",
              "</table>\n",
              "</div>"
            ],
            "text/plain": [
              "                                               tweet  ...  sentiment\n",
              "0  Wow. Yall needa step it up @Apple RT @heynyla:...  ...   NEGATIVE\n",
              "1  What Happened To Apple Inc?   http://t.co/FJEX...  ...    NEUTRAL\n",
              "2  Thank u @apple I can now compile all of the pi...  ...   POSITIVE\n",
              "3  The oddly uplifting story of the Apple co-foun...  ...    NEUTRAL\n",
              "4  @apple can i exchange my iphone for a differen...  ...    NEUTRAL\n",
              "\n",
              "[5 rows x 6 columns]"
            ]
          },
          "metadata": {},
          "execution_count": 186
        }
      ]
    },
    {
      "cell_type": "markdown",
      "source": [
        "# Analyse Sentiment Using VADER"
      ],
      "metadata": {
        "id": "wMGVQhu3V34A"
      }
    },
    {
      "cell_type": "code",
      "source": [
        "# Inisialisasi Library VADER\n",
        "nltk.download('vader_lexicon')\n",
        "from nltk.sentiment.vader import SentimentIntensityAnalyzer\n",
        "sid = SentimentIntensityAnalyzer()\n",
        "\n",
        "# Menghitung Skor Sentimen suatu Teks\n",
        "contoh =\"This was a great movie\"\n",
        "sid.polarity_scores(contoh)"
      ],
      "metadata": {
        "id": "nuh03t9pV_Pn",
        "colab": {
          "base_uri": "https://localhost:8080/"
        },
        "outputId": "1ba84072-6ef3-4b25-f245-b7af73e1afea"
      },
      "execution_count": null,
      "outputs": [
        {
          "output_type": "stream",
          "name": "stdout",
          "text": [
            "[nltk_data] Downloading package vader_lexicon to /root/nltk_data...\n",
            "[nltk_data]   Package vader_lexicon is already up-to-date!\n"
          ]
        },
        {
          "output_type": "execute_result",
          "data": {
            "text/plain": [
              "{'compound': 0.6249, 'neg': 0.0, 'neu': 0.423, 'pos': 0.577}"
            ]
          },
          "metadata": {},
          "execution_count": 187
        }
      ]
    },
    {
      "cell_type": "code",
      "source": [
        "contoh =\"This was a great movie\"\n",
        "sid.polarity_scores(contoh)"
      ],
      "metadata": {
        "colab": {
          "base_uri": "https://localhost:8080/"
        },
        "id": "arExvQiQZHpR",
        "outputId": "d72f3b77-3eb9-4d4e-be60-8ed43fa8f68f"
      },
      "execution_count": null,
      "outputs": [
        {
          "output_type": "execute_result",
          "data": {
            "text/plain": [
              "{'compound': 0.6249, 'neg': 0.0, 'neu': 0.423, 'pos': 0.577}"
            ]
          },
          "metadata": {},
          "execution_count": 188
        }
      ]
    },
    {
      "cell_type": "code",
      "source": [
        "df['scores'] = df['tweet'].apply(lambda x: sid.polarity_scores(x))\n",
        "df.head()"
      ],
      "metadata": {
        "colab": {
          "base_uri": "https://localhost:8080/",
          "height": 293
        },
        "id": "R5f6va8kWHiZ",
        "outputId": "6b072825-7648-4a67-9bba-12cb63c06526"
      },
      "execution_count": null,
      "outputs": [
        {
          "output_type": "execute_result",
          "data": {
            "text/html": [
              "<div>\n",
              "<style scoped>\n",
              "    .dataframe tbody tr th:only-of-type {\n",
              "        vertical-align: middle;\n",
              "    }\n",
              "\n",
              "    .dataframe tbody tr th {\n",
              "        vertical-align: top;\n",
              "    }\n",
              "\n",
              "    .dataframe thead th {\n",
              "        text-align: right;\n",
              "    }\n",
              "</style>\n",
              "<table border=\"1\" class=\"dataframe\">\n",
              "  <thead>\n",
              "    <tr style=\"text-align: right;\">\n",
              "      <th></th>\n",
              "      <th>tweet</th>\n",
              "      <th>category</th>\n",
              "      <th>tweet_lemma</th>\n",
              "      <th>tweet_without_stopwords</th>\n",
              "      <th>tweet_clean</th>\n",
              "      <th>sentiment</th>\n",
              "      <th>scores</th>\n",
              "    </tr>\n",
              "  </thead>\n",
              "  <tbody>\n",
              "    <tr>\n",
              "      <th>0</th>\n",
              "      <td>Wow. Yall needa step it up @Apple RT @heynyla:...</td>\n",
              "      <td>-1</td>\n",
              "      <td>Wow. Yall needa step it up @Apple RT @heynyla:...</td>\n",
              "      <td>wow. yall needa step @apple rt @heynyla: music...</td>\n",
              "      <td>wow yall needa step rt music snapchat damn tim...</td>\n",
              "      <td>NEGATIVE</td>\n",
              "      <td>{'neg': 0.104, 'neu': 0.654, 'pos': 0.242, 'co...</td>\n",
              "    </tr>\n",
              "    <tr>\n",
              "      <th>1</th>\n",
              "      <td>What Happened To Apple Inc?   http://t.co/FJEX...</td>\n",
              "      <td>0</td>\n",
              "      <td>What Happened To Apple Inc? http://t.co/FJEXI3...</td>\n",
              "      <td>what happened to apple inc? http://t.co/fjexi3...</td>\n",
              "      <td>what happened to apple inc aapl apple</td>\n",
              "      <td>NEUTRAL</td>\n",
              "      <td>{'neg': 0.0, 'neu': 1.0, 'pos': 0.0, 'compound...</td>\n",
              "    </tr>\n",
              "    <tr>\n",
              "      <th>2</th>\n",
              "      <td>Thank u @apple I can now compile all of the pi...</td>\n",
              "      <td>1</td>\n",
              "      <td>Thank u @apple I can now compile all of the pi...</td>\n",
              "      <td>thank u @apple i compile pics communicate one ...</td>\n",
              "      <td>thank u i compile pics communicate one place</td>\n",
              "      <td>POSITIVE</td>\n",
              "      <td>{'neg': 0.0, 'neu': 0.857, 'pos': 0.143, 'comp...</td>\n",
              "    </tr>\n",
              "    <tr>\n",
              "      <th>3</th>\n",
              "      <td>The oddly uplifting story of the Apple co-foun...</td>\n",
              "      <td>0</td>\n",
              "      <td>The oddly uplift story of the Apple co-founder...</td>\n",
              "      <td>the oddly uplift story apple co-founder sell s...</td>\n",
              "      <td>the oddly uplift story apple co founder sell s...</td>\n",
              "      <td>NEUTRAL</td>\n",
              "      <td>{'neg': 0.0, 'neu': 1.0, 'pos': 0.0, 'compound...</td>\n",
              "    </tr>\n",
              "    <tr>\n",
              "      <th>4</th>\n",
              "      <td>@apple can i exchange my iphone for a differen...</td>\n",
              "      <td>0</td>\n",
              "      <td>@apple can i exchange my iphone for a differen...</td>\n",
              "      <td>@apple exchange iphone different color lmao ch...</td>\n",
              "      <td>exchange iphone different color lmao change mind</td>\n",
              "      <td>NEUTRAL</td>\n",
              "      <td>{'neg': 0.0, 'neu': 0.738, 'pos': 0.262, 'comp...</td>\n",
              "    </tr>\n",
              "  </tbody>\n",
              "</table>\n",
              "</div>"
            ],
            "text/plain": [
              "                                               tweet  ...                                             scores\n",
              "0  Wow. Yall needa step it up @Apple RT @heynyla:...  ...  {'neg': 0.104, 'neu': 0.654, 'pos': 0.242, 'co...\n",
              "1  What Happened To Apple Inc?   http://t.co/FJEX...  ...  {'neg': 0.0, 'neu': 1.0, 'pos': 0.0, 'compound...\n",
              "2  Thank u @apple I can now compile all of the pi...  ...  {'neg': 0.0, 'neu': 0.857, 'pos': 0.143, 'comp...\n",
              "3  The oddly uplifting story of the Apple co-foun...  ...  {'neg': 0.0, 'neu': 1.0, 'pos': 0.0, 'compound...\n",
              "4  @apple can i exchange my iphone for a differen...  ...  {'neg': 0.0, 'neu': 0.738, 'pos': 0.262, 'comp...\n",
              "\n",
              "[5 rows x 7 columns]"
            ]
          },
          "metadata": {},
          "execution_count": 189
        }
      ]
    },
    {
      "cell_type": "code",
      "source": [
        "df.drop(['scores','category'],axis=1,inplace=True)"
      ],
      "metadata": {
        "id": "jlNbo6CjqpYB"
      },
      "execution_count": null,
      "outputs": []
    },
    {
      "cell_type": "code",
      "source": [
        "df.head(5)"
      ],
      "metadata": {
        "colab": {
          "base_uri": "https://localhost:8080/",
          "height": 258
        },
        "id": "KIUnxWDLNMsL",
        "outputId": "46a81c85-52e7-4233-883e-adfb2ae56914"
      },
      "execution_count": null,
      "outputs": [
        {
          "output_type": "execute_result",
          "data": {
            "text/html": [
              "<div>\n",
              "<style scoped>\n",
              "    .dataframe tbody tr th:only-of-type {\n",
              "        vertical-align: middle;\n",
              "    }\n",
              "\n",
              "    .dataframe tbody tr th {\n",
              "        vertical-align: top;\n",
              "    }\n",
              "\n",
              "    .dataframe thead th {\n",
              "        text-align: right;\n",
              "    }\n",
              "</style>\n",
              "<table border=\"1\" class=\"dataframe\">\n",
              "  <thead>\n",
              "    <tr style=\"text-align: right;\">\n",
              "      <th></th>\n",
              "      <th>tweet</th>\n",
              "      <th>tweet_lemma</th>\n",
              "      <th>tweet_without_stopwords</th>\n",
              "      <th>tweet_clean</th>\n",
              "      <th>sentiment</th>\n",
              "    </tr>\n",
              "  </thead>\n",
              "  <tbody>\n",
              "    <tr>\n",
              "      <th>0</th>\n",
              "      <td>Wow. Yall needa step it up @Apple RT @heynyla:...</td>\n",
              "      <td>Wow. Yall needa step it up @Apple RT @heynyla:...</td>\n",
              "      <td>wow. yall needa step @apple rt @heynyla: music...</td>\n",
              "      <td>wow yall needa step rt music snapchat damn tim...</td>\n",
              "      <td>NEGATIVE</td>\n",
              "    </tr>\n",
              "    <tr>\n",
              "      <th>1</th>\n",
              "      <td>What Happened To Apple Inc?   http://t.co/FJEX...</td>\n",
              "      <td>What Happened To Apple Inc? http://t.co/FJEXI3...</td>\n",
              "      <td>what happened to apple inc? http://t.co/fjexi3...</td>\n",
              "      <td>what happened to apple inc aapl apple</td>\n",
              "      <td>NEUTRAL</td>\n",
              "    </tr>\n",
              "    <tr>\n",
              "      <th>2</th>\n",
              "      <td>Thank u @apple I can now compile all of the pi...</td>\n",
              "      <td>Thank u @apple I can now compile all of the pi...</td>\n",
              "      <td>thank u @apple i compile pics communicate one ...</td>\n",
              "      <td>thank u i compile pics communicate one place</td>\n",
              "      <td>POSITIVE</td>\n",
              "    </tr>\n",
              "    <tr>\n",
              "      <th>3</th>\n",
              "      <td>The oddly uplifting story of the Apple co-foun...</td>\n",
              "      <td>The oddly uplift story of the Apple co-founder...</td>\n",
              "      <td>the oddly uplift story apple co-founder sell s...</td>\n",
              "      <td>the oddly uplift story apple co founder sell s...</td>\n",
              "      <td>NEUTRAL</td>\n",
              "    </tr>\n",
              "    <tr>\n",
              "      <th>4</th>\n",
              "      <td>@apple can i exchange my iphone for a differen...</td>\n",
              "      <td>@apple can i exchange my iphone for a differen...</td>\n",
              "      <td>@apple exchange iphone different color lmao ch...</td>\n",
              "      <td>exchange iphone different color lmao change mind</td>\n",
              "      <td>NEUTRAL</td>\n",
              "    </tr>\n",
              "  </tbody>\n",
              "</table>\n",
              "</div>"
            ],
            "text/plain": [
              "                                               tweet  ... sentiment\n",
              "0  Wow. Yall needa step it up @Apple RT @heynyla:...  ...  NEGATIVE\n",
              "1  What Happened To Apple Inc?   http://t.co/FJEX...  ...   NEUTRAL\n",
              "2  Thank u @apple I can now compile all of the pi...  ...  POSITIVE\n",
              "3  The oddly uplifting story of the Apple co-foun...  ...   NEUTRAL\n",
              "4  @apple can i exchange my iphone for a differen...  ...   NEUTRAL\n",
              "\n",
              "[5 rows x 5 columns]"
            ]
          },
          "metadata": {},
          "execution_count": 191
        }
      ]
    },
    {
      "cell_type": "code",
      "source": [
        "def model_performance(true_labels,predicted_labels,classes):\n",
        "  conf_matrix=confusion_matrix(true_labels,predicted_labels)\n",
        "  df_cm=pd.DataFrame(conf_matrix,index=classes,columns=classes)\n",
        "  print(\"Accuracy: \",accuracy_score(true_labels,predicted_labels))\n",
        "  print(\"Precison: \", precision_score(true_labels,predicted_labels, average='weighted'))\n",
        "  print(\"Recall: \", recall_score(true_labels,predicted_labels, average='weighted'))\n",
        "  print(\"F1 Score: \", f1_score(true_labels,predicted_labels, average='weighted'))\n",
        "  print(\"Model Report: \\n___________________________________________________\",)\n",
        "  print( classification_report(true_labels,predicted_labels))\n",
        "\n",
        "  sns.heatmap(df_cm,annot=True, cmap=\"YlGnBu\",fmt = '')\n",
        "\n",
        "  plt.xlabel(\"Predicted values\", fontdict = {'size':14}, labelpad = 10)\n",
        "  plt.ylabel(\"Actual values\"   , fontdict = {'size':14}, labelpad = 10)\n",
        "  plt.title (\"Confusion Matrix\", fontdict = {'size':18}, pad = 20)\n"
      ],
      "metadata": {
        "id": "wMDLb142qtxB"
      },
      "execution_count": null,
      "outputs": []
    },
    {
      "cell_type": "code",
      "source": [
        "def func_intensity_analyser(review,threshold=0.1,verbose=False):\n",
        "  sid=SentimentIntensityAnalyzer()\n",
        "  scores=sid.polarity_scores(review)\n",
        "\n",
        "  agg_score=scores['compound']\n",
        "  final_sentiment='POSITIVE' if agg_score>threshold else \"NEUTRAL\" if agg_score==threshold else 'NEGATIVE'\n",
        "  if verbose:\n",
        "    positive = round(scores['pos'],2)*100\n",
        "    final= round(agg_score,2)*100\n",
        "    negative=round(scores['neg'],2)*100\n",
        "    neutral =round(scores['neu'],2)*100\n",
        "\n",
        "    print(f'POSITIVE : {positive}%')\n",
        "    print(f'NEGATIVE : {negative}%')\n",
        "    print(f'NEUTRAL : {neutral}%')\n",
        "    print(f'FINAL : {final}')\n",
        "    print(f'SENTIMENT : {final_sentiment}')\n",
        "  \n",
        "  return final_sentiment"
      ],
      "metadata": {
        "id": "Pn6U5kPSnGE3"
      },
      "execution_count": null,
      "outputs": []
    },
    {
      "cell_type": "code",
      "source": [
        "df['scores'] = df['tweet_clean'].apply(lambda x: sid.polarity_scores(x))\n",
        "df['compound'] = df['scores'].apply(lambda score_dict: score_dict['compound'])\n",
        "df['sentiment_type_VADER']=''\n",
        "df.loc[df.compound>=0.05,'sentiment_type_VADER']='POSITIVE'\n",
        "df.loc[(df.compound>-0.05) & (df.compound<0.05),'sentiment_type_VADER']='NEUTRAL'\n",
        "df.loc[df.compound<=-0.05,'sentiment_type_VADER']='NEGATIVE'\n",
        "df.head()"
      ],
      "metadata": {
        "colab": {
          "base_uri": "https://localhost:8080/",
          "height": 380
        },
        "id": "bGTUAa93Wxm3",
        "outputId": "d1d122c9-b591-43db-b1ca-d851911179d0"
      },
      "execution_count": null,
      "outputs": [
        {
          "output_type": "execute_result",
          "data": {
            "text/html": [
              "<div>\n",
              "<style scoped>\n",
              "    .dataframe tbody tr th:only-of-type {\n",
              "        vertical-align: middle;\n",
              "    }\n",
              "\n",
              "    .dataframe tbody tr th {\n",
              "        vertical-align: top;\n",
              "    }\n",
              "\n",
              "    .dataframe thead th {\n",
              "        text-align: right;\n",
              "    }\n",
              "</style>\n",
              "<table border=\"1\" class=\"dataframe\">\n",
              "  <thead>\n",
              "    <tr style=\"text-align: right;\">\n",
              "      <th></th>\n",
              "      <th>tweet</th>\n",
              "      <th>tweet_lemma</th>\n",
              "      <th>tweet_without_stopwords</th>\n",
              "      <th>tweet_clean</th>\n",
              "      <th>sentiment</th>\n",
              "      <th>predicted_VADER</th>\n",
              "      <th>scores</th>\n",
              "      <th>compound</th>\n",
              "      <th>sentiment_type_VADER</th>\n",
              "    </tr>\n",
              "  </thead>\n",
              "  <tbody>\n",
              "    <tr>\n",
              "      <th>0</th>\n",
              "      <td>Wow. Yall needa step it up @Apple RT @heynyla:...</td>\n",
              "      <td>Wow. Yall needa step it up @Apple RT @heynyla:...</td>\n",
              "      <td>wow. yall needa step @apple rt @heynyla: music...</td>\n",
              "      <td>wow yall needa step rt music snapchat damn tim...</td>\n",
              "      <td>NEGATIVE</td>\n",
              "      <td>POSITIVE</td>\n",
              "      <td>{'neg': 0.159, 'neu': 0.471, 'pos': 0.371, 'co...</td>\n",
              "      <td>0.5574</td>\n",
              "      <td>POSITIVE</td>\n",
              "    </tr>\n",
              "    <tr>\n",
              "      <th>1</th>\n",
              "      <td>What Happened To Apple Inc?   http://t.co/FJEX...</td>\n",
              "      <td>What Happened To Apple Inc? http://t.co/FJEXI3...</td>\n",
              "      <td>what happened to apple inc? http://t.co/fjexi3...</td>\n",
              "      <td>what happened to apple inc aapl apple</td>\n",
              "      <td>NEUTRAL</td>\n",
              "      <td>NEGATIVE</td>\n",
              "      <td>{'neg': 0.0, 'neu': 1.0, 'pos': 0.0, 'compound...</td>\n",
              "      <td>0.0000</td>\n",
              "      <td>NEUTRAL</td>\n",
              "    </tr>\n",
              "    <tr>\n",
              "      <th>2</th>\n",
              "      <td>Thank u @apple I can now compile all of the pi...</td>\n",
              "      <td>Thank u @apple I can now compile all of the pi...</td>\n",
              "      <td>thank u @apple i compile pics communicate one ...</td>\n",
              "      <td>thank u i compile pics communicate one place</td>\n",
              "      <td>POSITIVE</td>\n",
              "      <td>NEGATIVE</td>\n",
              "      <td>{'neg': 0.0, 'neu': 0.667, 'pos': 0.333, 'comp...</td>\n",
              "      <td>0.3612</td>\n",
              "      <td>POSITIVE</td>\n",
              "    </tr>\n",
              "    <tr>\n",
              "      <th>3</th>\n",
              "      <td>The oddly uplifting story of the Apple co-foun...</td>\n",
              "      <td>The oddly uplift story of the Apple co-founder...</td>\n",
              "      <td>the oddly uplift story apple co-founder sell s...</td>\n",
              "      <td>the oddly uplift story apple co founder sell s...</td>\n",
              "      <td>NEUTRAL</td>\n",
              "      <td>NEGATIVE</td>\n",
              "      <td>{'neg': 0.0, 'neu': 1.0, 'pos': 0.0, 'compound...</td>\n",
              "      <td>0.0000</td>\n",
              "      <td>NEUTRAL</td>\n",
              "    </tr>\n",
              "    <tr>\n",
              "      <th>4</th>\n",
              "      <td>@apple can i exchange my iphone for a differen...</td>\n",
              "      <td>@apple can i exchange my iphone for a differen...</td>\n",
              "      <td>@apple exchange iphone different color lmao ch...</td>\n",
              "      <td>exchange iphone different color lmao change mind</td>\n",
              "      <td>NEUTRAL</td>\n",
              "      <td>POSITIVE</td>\n",
              "      <td>{'neg': 0.0, 'neu': 0.606, 'pos': 0.394, 'comp...</td>\n",
              "      <td>0.5994</td>\n",
              "      <td>POSITIVE</td>\n",
              "    </tr>\n",
              "  </tbody>\n",
              "</table>\n",
              "</div>"
            ],
            "text/plain": [
              "                                               tweet  ... sentiment_type_VADER\n",
              "0  Wow. Yall needa step it up @Apple RT @heynyla:...  ...             POSITIVE\n",
              "1  What Happened To Apple Inc?   http://t.co/FJEX...  ...              NEUTRAL\n",
              "2  Thank u @apple I can now compile all of the pi...  ...             POSITIVE\n",
              "3  The oddly uplifting story of the Apple co-foun...  ...              NEUTRAL\n",
              "4  @apple can i exchange my iphone for a differen...  ...             POSITIVE\n",
              "\n",
              "[5 rows x 9 columns]"
            ]
          },
          "metadata": {},
          "execution_count": 198
        }
      ]
    },
    {
      "cell_type": "code",
      "source": [
        "df[(df.sentiment==\"POSITIVE\")& (df.sentiment_type_VADER==\"POSITIVE\")]"
      ],
      "metadata": {
        "colab": {
          "base_uri": "https://localhost:8080/",
          "height": 1000
        },
        "id": "MYJdiBBoAC2B",
        "outputId": "7fa8b4b1-eb2a-4bd6-e923-8209d7bcf4eb"
      },
      "execution_count": null,
      "outputs": [
        {
          "output_type": "execute_result",
          "data": {
            "text/html": [
              "<div>\n",
              "<style scoped>\n",
              "    .dataframe tbody tr th:only-of-type {\n",
              "        vertical-align: middle;\n",
              "    }\n",
              "\n",
              "    .dataframe tbody tr th {\n",
              "        vertical-align: top;\n",
              "    }\n",
              "\n",
              "    .dataframe thead th {\n",
              "        text-align: right;\n",
              "    }\n",
              "</style>\n",
              "<table border=\"1\" class=\"dataframe\">\n",
              "  <thead>\n",
              "    <tr style=\"text-align: right;\">\n",
              "      <th></th>\n",
              "      <th>tweet</th>\n",
              "      <th>tweet_lemma</th>\n",
              "      <th>tweet_without_stopwords</th>\n",
              "      <th>tweet_clean</th>\n",
              "      <th>sentiment</th>\n",
              "      <th>predicted_VADER</th>\n",
              "      <th>scores</th>\n",
              "      <th>compound</th>\n",
              "      <th>sentiment_type_VADER</th>\n",
              "      <th>scores_without_clean</th>\n",
              "      <th>sentiment_type_VADER_no_clean</th>\n",
              "      <th>sentiment_type_TextBlob</th>\n",
              "      <th>polarity_TextBlob</th>\n",
              "    </tr>\n",
              "  </thead>\n",
              "  <tbody>\n",
              "    <tr>\n",
              "      <th>2</th>\n",
              "      <td>Thank u @apple I can now compile all of the pi...</td>\n",
              "      <td>Thank u @apple I can now compile all of the pi...</td>\n",
              "      <td>thank u @apple i compile pics communicate one ...</td>\n",
              "      <td>thank u i compile pics communicate one place</td>\n",
              "      <td>POSITIVE</td>\n",
              "      <td>NEGATIVE</td>\n",
              "      <td>{'neg': 0.0, 'neu': 0.667, 'pos': 0.333, 'comp...</td>\n",
              "      <td>0.3612</td>\n",
              "      <td>POSITIVE</td>\n",
              "      <td>{'neg': 0.0, 'neu': 0.857, 'pos': 0.143, 'comp...</td>\n",
              "      <td>POSITIVE</td>\n",
              "      <td>NEUTRAL</td>\n",
              "      <td>0.000000</td>\n",
              "    </tr>\n",
              "    <tr>\n",
              "      <th>34</th>\n",
              "      <td>RT @SwiftKey: We're so excited to be named to ...</td>\n",
              "      <td>RT @SwiftKey: We're so excite to be name to @A...</td>\n",
              "      <td>rt @swiftkey: we're excite name @apple's 'app ...</td>\n",
              "      <td>rt we re excite name app store best list year ...</td>\n",
              "      <td>POSITIVE</td>\n",
              "      <td>POSITIVE</td>\n",
              "      <td>{'neg': 0.0, 'neu': 0.552, 'pos': 0.448, 'comp...</td>\n",
              "      <td>0.8229</td>\n",
              "      <td>POSITIVE</td>\n",
              "      <td>{'neg': 0.0, 'neu': 0.703, 'pos': 0.297, 'comp...</td>\n",
              "      <td>POSITIVE</td>\n",
              "      <td>POSITIVE</td>\n",
              "      <td>1.000000</td>\n",
              "    </tr>\n",
              "    <tr>\n",
              "      <th>85</th>\n",
              "      <td>@apple #apple tech support is so nice. Free st...</td>\n",
              "      <td>@apple #apple tech support be so nice. Free st...</td>\n",
              "      <td>@apple #apple tech support nice. free stuff!! ...</td>\n",
              "      <td>apple tech support nice free stuff sucks ring...</td>\n",
              "      <td>POSITIVE</td>\n",
              "      <td>POSITIVE</td>\n",
              "      <td>{'neg': 0.145, 'neu': 0.347, 'pos': 0.509, 'co...</td>\n",
              "      <td>0.8154</td>\n",
              "      <td>POSITIVE</td>\n",
              "      <td>{'neg': 0.107, 'neu': 0.469, 'pos': 0.424, 'co...</td>\n",
              "      <td>POSITIVE</td>\n",
              "      <td>POSITIVE</td>\n",
              "      <td>0.233333</td>\n",
              "    </tr>\n",
              "    <tr>\n",
              "      <th>95</th>\n",
              "      <td>#AAPL providing another great entry point &amp;lt;...</td>\n",
              "      <td>#AAPL provide another great entry point &amp;lt; $115</td>\n",
              "      <td>#aapl provide another great entry point &amp;lt; $115</td>\n",
              "      <td>aapl provide another great entry point lt</td>\n",
              "      <td>POSITIVE</td>\n",
              "      <td>POSITIVE</td>\n",
              "      <td>{'neg': 0.0, 'neu': 0.594, 'pos': 0.406, 'comp...</td>\n",
              "      <td>0.6249</td>\n",
              "      <td>POSITIVE</td>\n",
              "      <td>{'neg': 0.0, 'neu': 0.631, 'pos': 0.369, 'comp...</td>\n",
              "      <td>POSITIVE</td>\n",
              "      <td>POSITIVE</td>\n",
              "      <td>0.800000</td>\n",
              "    </tr>\n",
              "    <tr>\n",
              "      <th>111</th>\n",
              "      <td>The 10 biggest differences between #Mac and #P...</td>\n",
              "      <td>The 10 biggest differences between #Mac and #P...</td>\n",
              "      <td>the 10 biggest differences #mac #pc. yep, i'll...</td>\n",
              "      <td>the biggest differences mac pc yep i ll stick ...</td>\n",
              "      <td>POSITIVE</td>\n",
              "      <td>NEGATIVE</td>\n",
              "      <td>{'neg': 0.0, 'neu': 0.804, 'pos': 0.196, 'comp...</td>\n",
              "      <td>0.3595</td>\n",
              "      <td>POSITIVE</td>\n",
              "      <td>{'neg': 0.0, 'neu': 0.872, 'pos': 0.128, 'comp...</td>\n",
              "      <td>POSITIVE</td>\n",
              "      <td>NEUTRAL</td>\n",
              "      <td>0.000000</td>\n",
              "    </tr>\n",
              "    <tr>\n",
              "      <th>...</th>\n",
              "      <td>...</td>\n",
              "      <td>...</td>\n",
              "      <td>...</td>\n",
              "      <td>...</td>\n",
              "      <td>...</td>\n",
              "      <td>...</td>\n",
              "      <td>...</td>\n",
              "      <td>...</td>\n",
              "      <td>...</td>\n",
              "      <td>...</td>\n",
              "      <td>...</td>\n",
              "      <td>...</td>\n",
              "      <td>...</td>\n",
              "    </tr>\n",
              "    <tr>\n",
              "      <th>1581</th>\n",
              "      <td>#apple earns more #profit in on quarter than #...</td>\n",
              "      <td>#apple earn more #profit in on quarter than #a...</td>\n",
              "      <td>#apple earn #profit quarter #amazon earn lifet...</td>\n",
              "      <td>apple earn profit quarter amazon earn lifetim...</td>\n",
              "      <td>POSITIVE</td>\n",
              "      <td>POSITIVE</td>\n",
              "      <td>{'neg': 0.0, 'neu': 0.373, 'pos': 0.627, 'comp...</td>\n",
              "      <td>0.6705</td>\n",
              "      <td>POSITIVE</td>\n",
              "      <td>{'neg': 0.0, 'neu': 0.756, 'pos': 0.244, 'comp...</td>\n",
              "      <td>POSITIVE</td>\n",
              "      <td>POSITIVE</td>\n",
              "      <td>0.100000</td>\n",
              "    </tr>\n",
              "    <tr>\n",
              "      <th>1583</th>\n",
              "      <td>Finally got my iPhone 6! @apple =) Such a reli...</td>\n",
              "      <td>Finally get my iPhone 6! @apple =) Such a reli...</td>\n",
              "      <td>finally get iphone 6! @apple =) such relief us...</td>\n",
              "      <td>finally get iphone such relief use months</td>\n",
              "      <td>POSITIVE</td>\n",
              "      <td>POSITIVE</td>\n",
              "      <td>{'neg': 0.0, 'neu': 0.659, 'pos': 0.341, 'comp...</td>\n",
              "      <td>0.7835</td>\n",
              "      <td>POSITIVE</td>\n",
              "      <td>{'neg': 0.0, 'neu': 0.635, 'pos': 0.365, 'comp...</td>\n",
              "      <td>POSITIVE</td>\n",
              "      <td>NEUTRAL</td>\n",
              "      <td>0.000000</td>\n",
              "    </tr>\n",
              "    <tr>\n",
              "      <th>1598</th>\n",
              "      <td>Yay @Apple customer support was super nice and...</td>\n",
              "      <td>Yay @Apple customer support be super nice and ...</td>\n",
              "      <td>yay @apple customer support super nice helpful...</td>\n",
              "      <td>yay customer support super nice helpful imessa...</td>\n",
              "      <td>POSITIVE</td>\n",
              "      <td>POSITIVE</td>\n",
              "      <td>{'neg': 0.0, 'neu': 0.161, 'pos': 0.839, 'comp...</td>\n",
              "      <td>0.9393</td>\n",
              "      <td>POSITIVE</td>\n",
              "      <td>{'neg': 0.0, 'neu': 0.391, 'pos': 0.609, 'comp...</td>\n",
              "      <td>POSITIVE</td>\n",
              "      <td>POSITIVE</td>\n",
              "      <td>0.466667</td>\n",
              "    </tr>\n",
              "    <tr>\n",
              "      <th>1610</th>\n",
              "      <td>RT @shannonmmiller: Love the @Apple is support...</td>\n",
              "      <td>RT @shannonmmiller: Love the @Apple be support...</td>\n",
              "      <td>rt @shannonmmiller: love @apple support #houro...</td>\n",
              "      <td>rt love support hourofcode workshops</td>\n",
              "      <td>POSITIVE</td>\n",
              "      <td>POSITIVE</td>\n",
              "      <td>{'neg': 0.0, 'neu': 0.303, 'pos': 0.697, 'comp...</td>\n",
              "      <td>0.8858</td>\n",
              "      <td>POSITIVE</td>\n",
              "      <td>{'neg': 0.0, 'neu': 0.464, 'pos': 0.536, 'comp...</td>\n",
              "      <td>POSITIVE</td>\n",
              "      <td>POSITIVE</td>\n",
              "      <td>0.500000</td>\n",
              "    </tr>\n",
              "    <tr>\n",
              "      <th>1613</th>\n",
              "      <td>@Apple's share of UK smartphone sales soared t...</td>\n",
              "      <td>@Apple's share of UK smartphone sales soar to ...</td>\n",
              "      <td>@apple's share uk smartphone sales soar 39.5% ...</td>\n",
              "      <td>share uk smartphone sales soar months october...</td>\n",
              "      <td>POSITIVE</td>\n",
              "      <td>POSITIVE</td>\n",
              "      <td>{'neg': 0.0, 'neu': 0.63, 'pos': 0.37, 'compou...</td>\n",
              "      <td>0.6249</td>\n",
              "      <td>POSITIVE</td>\n",
              "      <td>{'neg': 0.0, 'neu': 0.758, 'pos': 0.242, 'comp...</td>\n",
              "      <td>POSITIVE</td>\n",
              "      <td>NEUTRAL</td>\n",
              "      <td>0.000000</td>\n",
              "    </tr>\n",
              "  </tbody>\n",
              "</table>\n",
              "<p>122 rows × 13 columns</p>\n",
              "</div>"
            ],
            "text/plain": [
              "                                                  tweet  ... polarity_TextBlob\n",
              "2     Thank u @apple I can now compile all of the pi...  ...          0.000000\n",
              "34    RT @SwiftKey: We're so excited to be named to ...  ...          1.000000\n",
              "85    @apple #apple tech support is so nice. Free st...  ...          0.233333\n",
              "95    #AAPL providing another great entry point &lt;...  ...          0.800000\n",
              "111   The 10 biggest differences between #Mac and #P...  ...          0.000000\n",
              "...                                                 ...  ...               ...\n",
              "1581  #apple earns more #profit in on quarter than #...  ...          0.100000\n",
              "1583  Finally got my iPhone 6! @apple =) Such a reli...  ...          0.000000\n",
              "1598  Yay @Apple customer support was super nice and...  ...          0.466667\n",
              "1610  RT @shannonmmiller: Love the @Apple is support...  ...          0.500000\n",
              "1613  @Apple's share of UK smartphone sales soared t...  ...          0.000000\n",
              "\n",
              "[122 rows x 13 columns]"
            ]
          },
          "metadata": {},
          "execution_count": 217
        }
      ]
    },
    {
      "cell_type": "code",
      "source": [
        "# Hasilnya lebih bagus malah\n",
        "model_performance(df.sentiment,df.sentiment_type_VADER,classes=[\"negative\",\"neutral\",\"positive\"])"
      ],
      "metadata": {
        "id": "EH0XUIAmh4z9",
        "colab": {
          "base_uri": "https://localhost:8080/",
          "height": 601
        },
        "outputId": "5c19d758-055f-45b9-c5e2-dd067fa7ce08"
      },
      "execution_count": null,
      "outputs": [
        {
          "output_type": "stream",
          "name": "stdout",
          "text": [
            "Accuracy:  0.5852760736196319\n",
            "Precison:  0.7158460229752732\n",
            "Recall:  0.5852760736196319\n",
            "F1 Score:  0.6199407387994432\n",
            "Model Report: \n",
            "___________________________________________________\n",
            "              precision    recall  f1-score   support\n",
            "\n",
            "    NEGATIVE       0.79      0.60      0.68       686\n",
            "     NEUTRAL       0.74      0.52      0.61       801\n",
            "    POSITIVE       0.23      0.85      0.36       143\n",
            "\n",
            "    accuracy                           0.59      1630\n",
            "   macro avg       0.58      0.66      0.55      1630\n",
            "weighted avg       0.72      0.59      0.62      1630\n",
            "\n"
          ]
        },
        {
          "output_type": "display_data",
          "data": {
            "image/png": "[encoded data removed]",
            "text/plain": [
              "<Figure size 432x288 with 2 Axes>"
            ]
          },
          "metadata": {
            "needs_background": "light"
          }
        }
      ]
    },
    {
      "cell_type": "code",
      "source": [
        "df.info()"
      ],
      "metadata": {
        "colab": {
          "base_uri": "https://localhost:8080/"
        },
        "id": "HTdiSiQijEZb",
        "outputId": "8620f25e-4b68-4ed9-9c9e-7c82c4bbecca"
      },
      "execution_count": null,
      "outputs": [
        {
          "output_type": "stream",
          "name": "stdout",
          "text": [
            "<class 'pandas.core.frame.DataFrame'>\n",
            "Int64Index: 1630 entries, 0 to 1629\n",
            "Data columns (total 9 columns):\n",
            " #   Column                   Non-Null Count  Dtype  \n",
            "---  ------                   --------------  -----  \n",
            " 0   tweet                    1630 non-null   object \n",
            " 1   tweet_lemma              1630 non-null   object \n",
            " 2   tweet_without_stopwords  1630 non-null   object \n",
            " 3   tweet_clean              1630 non-null   object \n",
            " 4   sentiment                1630 non-null   object \n",
            " 5   predicted_VADER          1630 non-null   object \n",
            " 6   scores                   1630 non-null   object \n",
            " 7   compound                 1630 non-null   float64\n",
            " 8   sentiment_type_VADER     1630 non-null   object \n",
            "dtypes: float64(1), object(8)\n",
            "memory usage: 127.3+ KB\n"
          ]
        }
      ]
    },
    {
      "cell_type": "markdown",
      "source": [
        "### Vader tanpa di pre-processing"
      ],
      "metadata": {
        "id": "gHTOTN2xlJx_"
      }
    },
    {
      "cell_type": "code",
      "source": [
        "df['scores_without_clean'] = df['tweet'].apply(lambda x: sid.polarity_scores(x))\n",
        "df['compound'] = df['scores_without_clean'].apply(lambda score_dict: score_dict['compound'])\n",
        "df['sentiment_type_VADER_no_clean']=''\n",
        "df.loc[df.compound>=0.05,'sentiment_type_VADER_no_clean']='POSITIVE'\n",
        "df.loc[(df.compound>-0.05) & (df.compound<0.05),'sentiment_type_VADER_no_clean']='NEUTRAL'\n",
        "df.loc[df.compound<=-0.05,'sentiment_type_VADER_no_clean']='NEGATIVE'\n",
        "df.head()"
      ],
      "metadata": {
        "colab": {
          "base_uri": "https://localhost:8080/",
          "height": 538
        },
        "id": "EpbR7UwqlQm4",
        "outputId": "e8a0cc70-563c-49d5-e151-16d9089be69e"
      },
      "execution_count": null,
      "outputs": [
        {
          "output_type": "execute_result",
          "data": {
            "text/html": [
              "<div>\n",
              "<style scoped>\n",
              "    .dataframe tbody tr th:only-of-type {\n",
              "        vertical-align: middle;\n",
              "    }\n",
              "\n",
              "    .dataframe tbody tr th {\n",
              "        vertical-align: top;\n",
              "    }\n",
              "\n",
              "    .dataframe thead th {\n",
              "        text-align: right;\n",
              "    }\n",
              "</style>\n",
              "<table border=\"1\" class=\"dataframe\">\n",
              "  <thead>\n",
              "    <tr style=\"text-align: right;\">\n",
              "      <th></th>\n",
              "      <th>tweet</th>\n",
              "      <th>tweet_lemma</th>\n",
              "      <th>tweet_without_stopwords</th>\n",
              "      <th>tweet_clean</th>\n",
              "      <th>sentiment</th>\n",
              "      <th>predicted_VADER</th>\n",
              "      <th>scores</th>\n",
              "      <th>compound</th>\n",
              "      <th>sentiment_type_VADER</th>\n",
              "      <th>scores_without_clean</th>\n",
              "      <th>sentiment_type_VADER_no_clean</th>\n",
              "      <th>sentiment_type_TextBlob</th>\n",
              "      <th>polarity_TextBlob</th>\n",
              "    </tr>\n",
              "  </thead>\n",
              "  <tbody>\n",
              "    <tr>\n",
              "      <th>0</th>\n",
              "      <td>Wow. Yall needa step it up @Apple RT @heynyla:...</td>\n",
              "      <td>Wow. Yall needa step it up @Apple RT @heynyla:...</td>\n",
              "      <td>wow. yall needa step @apple rt @heynyla: music...</td>\n",
              "      <td>wow yall needa step rt music snapchat damn tim...</td>\n",
              "      <td>NEGATIVE</td>\n",
              "      <td>POSITIVE</td>\n",
              "      <td>{'neg': 0.159, 'neu': 0.471, 'pos': 0.371, 'co...</td>\n",
              "      <td>0.5574</td>\n",
              "      <td>POSITIVE</td>\n",
              "      <td>{'neg': 0.104, 'neu': 0.654, 'pos': 0.242, 'co...</td>\n",
              "      <td>POSITIVE</td>\n",
              "      <td>POSITIVE</td>\n",
              "      <td>0.100000</td>\n",
              "    </tr>\n",
              "    <tr>\n",
              "      <th>1</th>\n",
              "      <td>What Happened To Apple Inc?   http://t.co/FJEX...</td>\n",
              "      <td>What Happened To Apple Inc? http://t.co/FJEXI3...</td>\n",
              "      <td>what happened to apple inc? http://t.co/fjexi3...</td>\n",
              "      <td>what happened to apple inc aapl apple</td>\n",
              "      <td>NEUTRAL</td>\n",
              "      <td>NEGATIVE</td>\n",
              "      <td>{'neg': 0.0, 'neu': 1.0, 'pos': 0.0, 'compound...</td>\n",
              "      <td>0.0000</td>\n",
              "      <td>NEUTRAL</td>\n",
              "      <td>{'neg': 0.0, 'neu': 1.0, 'pos': 0.0, 'compound...</td>\n",
              "      <td>NEUTRAL</td>\n",
              "      <td>NEUTRAL</td>\n",
              "      <td>0.000000</td>\n",
              "    </tr>\n",
              "    <tr>\n",
              "      <th>2</th>\n",
              "      <td>Thank u @apple I can now compile all of the pi...</td>\n",
              "      <td>Thank u @apple I can now compile all of the pi...</td>\n",
              "      <td>thank u @apple i compile pics communicate one ...</td>\n",
              "      <td>thank u i compile pics communicate one place</td>\n",
              "      <td>POSITIVE</td>\n",
              "      <td>NEGATIVE</td>\n",
              "      <td>{'neg': 0.0, 'neu': 0.667, 'pos': 0.333, 'comp...</td>\n",
              "      <td>0.3612</td>\n",
              "      <td>POSITIVE</td>\n",
              "      <td>{'neg': 0.0, 'neu': 0.857, 'pos': 0.143, 'comp...</td>\n",
              "      <td>POSITIVE</td>\n",
              "      <td>NEUTRAL</td>\n",
              "      <td>0.000000</td>\n",
              "    </tr>\n",
              "    <tr>\n",
              "      <th>3</th>\n",
              "      <td>The oddly uplifting story of the Apple co-foun...</td>\n",
              "      <td>The oddly uplift story of the Apple co-founder...</td>\n",
              "      <td>the oddly uplift story apple co-founder sell s...</td>\n",
              "      <td>the oddly uplift story apple co founder sell s...</td>\n",
              "      <td>NEUTRAL</td>\n",
              "      <td>NEGATIVE</td>\n",
              "      <td>{'neg': 0.0, 'neu': 1.0, 'pos': 0.0, 'compound...</td>\n",
              "      <td>0.0000</td>\n",
              "      <td>NEUTRAL</td>\n",
              "      <td>{'neg': 0.0, 'neu': 1.0, 'pos': 0.0, 'compound...</td>\n",
              "      <td>NEUTRAL</td>\n",
              "      <td>NEGATIVE</td>\n",
              "      <td>-0.166667</td>\n",
              "    </tr>\n",
              "    <tr>\n",
              "      <th>4</th>\n",
              "      <td>@apple can i exchange my iphone for a differen...</td>\n",
              "      <td>@apple can i exchange my iphone for a differen...</td>\n",
              "      <td>@apple exchange iphone different color lmao ch...</td>\n",
              "      <td>exchange iphone different color lmao change mind</td>\n",
              "      <td>NEUTRAL</td>\n",
              "      <td>POSITIVE</td>\n",
              "      <td>{'neg': 0.0, 'neu': 0.606, 'pos': 0.394, 'comp...</td>\n",
              "      <td>0.5994</td>\n",
              "      <td>POSITIVE</td>\n",
              "      <td>{'neg': 0.0, 'neu': 0.738, 'pos': 0.262, 'comp...</td>\n",
              "      <td>POSITIVE</td>\n",
              "      <td>POSITIVE</td>\n",
              "      <td>0.300000</td>\n",
              "    </tr>\n",
              "  </tbody>\n",
              "</table>\n",
              "</div>"
            ],
            "text/plain": [
              "                                               tweet  ... polarity_TextBlob\n",
              "0  Wow. Yall needa step it up @Apple RT @heynyla:...  ...          0.100000\n",
              "1  What Happened To Apple Inc?   http://t.co/FJEX...  ...          0.000000\n",
              "2  Thank u @apple I can now compile all of the pi...  ...          0.000000\n",
              "3  The oddly uplifting story of the Apple co-foun...  ...         -0.166667\n",
              "4  @apple can i exchange my iphone for a differen...  ...          0.300000\n",
              "\n",
              "[5 rows x 13 columns]"
            ]
          },
          "metadata": {},
          "execution_count": 218
        }
      ]
    },
    {
      "cell_type": "code",
      "source": [
        "# Hasilnya lebih bagus malah\n",
        "model_performance(df.sentiment,df.sentiment_type_VADER_no_clean,classes=[\"negative\",\"neutral\",\"positive\"])"
      ],
      "metadata": {
        "colab": {
          "base_uri": "https://localhost:8080/",
          "height": 601
        },
        "id": "x25C_ex1lzI5",
        "outputId": "aa10e375-3ba4-41c8-afc0-7e65bd8452a6"
      },
      "execution_count": null,
      "outputs": [
        {
          "output_type": "stream",
          "name": "stdout",
          "text": [
            "Accuracy:  0.6067484662576688\n",
            "Precison:  0.7276096660559279\n",
            "Recall:  0.6067484662576688\n",
            "F1 Score:  0.6401255228939516\n",
            "Model Report: \n",
            "___________________________________________________\n",
            "              precision    recall  f1-score   support\n",
            "\n",
            "    NEGATIVE       0.80      0.61      0.70       686\n",
            "     NEUTRAL       0.75      0.56      0.64       801\n",
            "    POSITIVE       0.24      0.84      0.37       143\n",
            "\n",
            "    accuracy                           0.61      1630\n",
            "   macro avg       0.60      0.67      0.57      1630\n",
            "weighted avg       0.73      0.61      0.64      1630\n",
            "\n"
          ]
        },
        {
          "output_type": "display_data",
          "data": {
            "image/png": "[encoded data removed]",
            "text/plain": [
              "<Figure size 432x288 with 2 Axes>"
            ]
          },
          "metadata": {
            "needs_background": "light"
          }
        }
      ]
    },
    {
      "cell_type": "markdown",
      "source": [
        "# Analysis Sentiment Using TextBlob"
      ],
      "metadata": {
        "id": "UJpdYAmJHRj9"
      }
    },
    {
      "cell_type": "code",
      "source": [
        "from textblob import TextBlob\n",
        "import numpy as np"
      ],
      "metadata": {
        "id": "v14prZyLHd2l"
      },
      "execution_count": null,
      "outputs": []
    },
    {
      "cell_type": "code",
      "source": [
        "def sentiment_textblob(tweet):\n",
        "    '''\n",
        "    Utility function to classify the polarity of a tweet\n",
        "    using textblob.\n",
        "    '''\n",
        "    analysis = TextBlob(tweet)\n",
        "    if analysis.sentiment.polarity > 0:\n",
        "        return 'POSITIVE'\n",
        "    elif analysis.sentiment.polarity == 0:\n",
        "        return 'NEUTRAL'\n",
        "    else:\n",
        "        return 'NEGATIVE'\n",
        "\n",
        "def polarity_textblob(tweet):\n",
        "  analysis = TextBlob(tweet)\n",
        "  return analysis.sentiment.polarity"
      ],
      "metadata": {
        "id": "KZo3dHfRHgl5"
      },
      "execution_count": null,
      "outputs": []
    },
    {
      "cell_type": "code",
      "source": [
        "# We create a column with the result of the analysis:\n",
        "df['sentiment_type_TextBlob'] = np.array([ sentiment_textblob(tweet) for tweet in df['tweet_clean'] ])\n",
        "df['polarity_TextBlob'] = np.array([ polarity_textblob(tweet) for tweet in df['tweet_clean'] ])\n",
        "\n",
        "# We display the updated dataframe with the new column:\n",
        "display(df.head())"
      ],
      "metadata": {
        "colab": {
          "base_uri": "https://localhost:8080/",
          "height": 538
        },
        "id": "byYjqCh3HVml",
        "outputId": "792ed025-b611-49f6-db39-69f7bec0c3ba"
      },
      "execution_count": null,
      "outputs": [
        {
          "output_type": "display_data",
          "data": {
            "text/html": [
              "<div>\n",
              "<style scoped>\n",
              "    .dataframe tbody tr th:only-of-type {\n",
              "        vertical-align: middle;\n",
              "    }\n",
              "\n",
              "    .dataframe tbody tr th {\n",
              "        vertical-align: top;\n",
              "    }\n",
              "\n",
              "    .dataframe thead th {\n",
              "        text-align: right;\n",
              "    }\n",
              "</style>\n",
              "<table border=\"1\" class=\"dataframe\">\n",
              "  <thead>\n",
              "    <tr style=\"text-align: right;\">\n",
              "      <th></th>\n",
              "      <th>tweet</th>\n",
              "      <th>tweet_lemma</th>\n",
              "      <th>tweet_without_stopwords</th>\n",
              "      <th>tweet_clean</th>\n",
              "      <th>sentiment</th>\n",
              "      <th>predicted_VADER</th>\n",
              "      <th>scores</th>\n",
              "      <th>compound</th>\n",
              "      <th>sentiment_type_VADER</th>\n",
              "      <th>scores_without_clean</th>\n",
              "      <th>sentiment_type_VADER_no_clean</th>\n",
              "      <th>sentiment_type_TextBlob</th>\n",
              "      <th>polarity_TextBlob</th>\n",
              "    </tr>\n",
              "  </thead>\n",
              "  <tbody>\n",
              "    <tr>\n",
              "      <th>0</th>\n",
              "      <td>Wow. Yall needa step it up @Apple RT @heynyla:...</td>\n",
              "      <td>Wow. Yall needa step it up @Apple RT @heynyla:...</td>\n",
              "      <td>wow. yall needa step @apple rt @heynyla: music...</td>\n",
              "      <td>wow yall needa step rt music snapchat damn tim...</td>\n",
              "      <td>NEGATIVE</td>\n",
              "      <td>POSITIVE</td>\n",
              "      <td>{'neg': 0.159, 'neu': 0.471, 'pos': 0.371, 'co...</td>\n",
              "      <td>0.5574</td>\n",
              "      <td>POSITIVE</td>\n",
              "      <td>{'neg': 0.104, 'neu': 0.654, 'pos': 0.242, 'co...</td>\n",
              "      <td>POSITIVE</td>\n",
              "      <td>POSITIVE</td>\n",
              "      <td>0.100000</td>\n",
              "    </tr>\n",
              "    <tr>\n",
              "      <th>1</th>\n",
              "      <td>What Happened To Apple Inc?   http://t.co/FJEX...</td>\n",
              "      <td>What Happened To Apple Inc? http://t.co/FJEXI3...</td>\n",
              "      <td>what happened to apple inc? http://t.co/fjexi3...</td>\n",
              "      <td>what happened to apple inc aapl apple</td>\n",
              "      <td>NEUTRAL</td>\n",
              "      <td>NEGATIVE</td>\n",
              "      <td>{'neg': 0.0, 'neu': 1.0, 'pos': 0.0, 'compound...</td>\n",
              "      <td>0.0000</td>\n",
              "      <td>NEUTRAL</td>\n",
              "      <td>{'neg': 0.0, 'neu': 1.0, 'pos': 0.0, 'compound...</td>\n",
              "      <td>NEUTRAL</td>\n",
              "      <td>NEUTRAL</td>\n",
              "      <td>0.000000</td>\n",
              "    </tr>\n",
              "    <tr>\n",
              "      <th>2</th>\n",
              "      <td>Thank u @apple I can now compile all of the pi...</td>\n",
              "      <td>Thank u @apple I can now compile all of the pi...</td>\n",
              "      <td>thank u @apple i compile pics communicate one ...</td>\n",
              "      <td>thank u i compile pics communicate one place</td>\n",
              "      <td>POSITIVE</td>\n",
              "      <td>NEGATIVE</td>\n",
              "      <td>{'neg': 0.0, 'neu': 0.667, 'pos': 0.333, 'comp...</td>\n",
              "      <td>0.3612</td>\n",
              "      <td>POSITIVE</td>\n",
              "      <td>{'neg': 0.0, 'neu': 0.857, 'pos': 0.143, 'comp...</td>\n",
              "      <td>POSITIVE</td>\n",
              "      <td>NEUTRAL</td>\n",
              "      <td>0.000000</td>\n",
              "    </tr>\n",
              "    <tr>\n",
              "      <th>3</th>\n",
              "      <td>The oddly uplifting story of the Apple co-foun...</td>\n",
              "      <td>The oddly uplift story of the Apple co-founder...</td>\n",
              "      <td>the oddly uplift story apple co-founder sell s...</td>\n",
              "      <td>the oddly uplift story apple co founder sell s...</td>\n",
              "      <td>NEUTRAL</td>\n",
              "      <td>NEGATIVE</td>\n",
              "      <td>{'neg': 0.0, 'neu': 1.0, 'pos': 0.0, 'compound...</td>\n",
              "      <td>0.0000</td>\n",
              "      <td>NEUTRAL</td>\n",
              "      <td>{'neg': 0.0, 'neu': 1.0, 'pos': 0.0, 'compound...</td>\n",
              "      <td>NEUTRAL</td>\n",
              "      <td>NEGATIVE</td>\n",
              "      <td>-0.166667</td>\n",
              "    </tr>\n",
              "    <tr>\n",
              "      <th>4</th>\n",
              "      <td>@apple can i exchange my iphone for a differen...</td>\n",
              "      <td>@apple can i exchange my iphone for a differen...</td>\n",
              "      <td>@apple exchange iphone different color lmao ch...</td>\n",
              "      <td>exchange iphone different color lmao change mind</td>\n",
              "      <td>NEUTRAL</td>\n",
              "      <td>POSITIVE</td>\n",
              "      <td>{'neg': 0.0, 'neu': 0.606, 'pos': 0.394, 'comp...</td>\n",
              "      <td>0.5994</td>\n",
              "      <td>POSITIVE</td>\n",
              "      <td>{'neg': 0.0, 'neu': 0.738, 'pos': 0.262, 'comp...</td>\n",
              "      <td>POSITIVE</td>\n",
              "      <td>POSITIVE</td>\n",
              "      <td>0.300000</td>\n",
              "    </tr>\n",
              "  </tbody>\n",
              "</table>\n",
              "</div>"
            ],
            "text/plain": [
              "                                               tweet  ... polarity_TextBlob\n",
              "0  Wow. Yall needa step it up @Apple RT @heynyla:...  ...          0.100000\n",
              "1  What Happened To Apple Inc?   http://t.co/FJEX...  ...          0.000000\n",
              "2  Thank u @apple I can now compile all of the pi...  ...          0.000000\n",
              "3  The oddly uplifting story of the Apple co-foun...  ...         -0.166667\n",
              "4  @apple can i exchange my iphone for a differen...  ...          0.300000\n",
              "\n",
              "[5 rows x 13 columns]"
            ]
          },
          "metadata": {}
        }
      ]
    },
    {
      "cell_type": "code",
      "source": [
        "df[(df.sentiment=='POSITIVE') & (df.sentiment_type_TextBlob==\"POSITIVE\")]"
      ],
      "metadata": {
        "colab": {
          "base_uri": "https://localhost:8080/",
          "height": 1000
        },
        "id": "8zI3VjFH3387",
        "outputId": "f4f4f06f-6541-4266-9f74-7bf4ab31823c"
      },
      "execution_count": null,
      "outputs": [
        {
          "output_type": "execute_result",
          "data": {
            "text/html": [
              "<div>\n",
              "<style scoped>\n",
              "    .dataframe tbody tr th:only-of-type {\n",
              "        vertical-align: middle;\n",
              "    }\n",
              "\n",
              "    .dataframe tbody tr th {\n",
              "        vertical-align: top;\n",
              "    }\n",
              "\n",
              "    .dataframe thead th {\n",
              "        text-align: right;\n",
              "    }\n",
              "</style>\n",
              "<table border=\"1\" class=\"dataframe\">\n",
              "  <thead>\n",
              "    <tr style=\"text-align: right;\">\n",
              "      <th></th>\n",
              "      <th>tweet</th>\n",
              "      <th>tweet_lemma</th>\n",
              "      <th>tweet_without_stopwords</th>\n",
              "      <th>tweet_clean</th>\n",
              "      <th>sentiment</th>\n",
              "      <th>predicted_VADER</th>\n",
              "      <th>scores</th>\n",
              "      <th>compound</th>\n",
              "      <th>sentiment_type_VADER</th>\n",
              "      <th>scores_without_clean</th>\n",
              "      <th>sentiment_type_VADER_no_clean</th>\n",
              "      <th>sentiment_type_TextBlob</th>\n",
              "      <th>polarity_TextBlob</th>\n",
              "    </tr>\n",
              "  </thead>\n",
              "  <tbody>\n",
              "    <tr>\n",
              "      <th>33</th>\n",
              "      <td>Finally! Brooklyn Is Getting Its Own #Apple St...</td>\n",
              "      <td>Finally! Brooklyn Is Getting Its Own #Apple St...</td>\n",
              "      <td>finally! brooklyn is getting its own #apple st...</td>\n",
              "      <td>finally brooklyn is getting its own apple stor...</td>\n",
              "      <td>POSITIVE</td>\n",
              "      <td>NEGATIVE</td>\n",
              "      <td>{'neg': 0.0, 'neu': 1.0, 'pos': 0.0, 'compound...</td>\n",
              "      <td>0.0000</td>\n",
              "      <td>NEUTRAL</td>\n",
              "      <td>{'neg': 0.0, 'neu': 1.0, 'pos': 0.0, 'compound...</td>\n",
              "      <td>NEUTRAL</td>\n",
              "      <td>POSITIVE</td>\n",
              "      <td>0.300000</td>\n",
              "    </tr>\n",
              "    <tr>\n",
              "      <th>34</th>\n",
              "      <td>RT @SwiftKey: We're so excited to be named to ...</td>\n",
              "      <td>RT @SwiftKey: We're so excite to be name to @A...</td>\n",
              "      <td>rt @swiftkey: we're excite name @apple's 'app ...</td>\n",
              "      <td>rt we re excite name app store best list year ...</td>\n",
              "      <td>POSITIVE</td>\n",
              "      <td>POSITIVE</td>\n",
              "      <td>{'neg': 0.0, 'neu': 0.552, 'pos': 0.448, 'comp...</td>\n",
              "      <td>0.8229</td>\n",
              "      <td>POSITIVE</td>\n",
              "      <td>{'neg': 0.0, 'neu': 0.703, 'pos': 0.297, 'comp...</td>\n",
              "      <td>POSITIVE</td>\n",
              "      <td>POSITIVE</td>\n",
              "      <td>1.000000</td>\n",
              "    </tr>\n",
              "    <tr>\n",
              "      <th>85</th>\n",
              "      <td>@apple #apple tech support is so nice. Free st...</td>\n",
              "      <td>@apple #apple tech support be so nice. Free st...</td>\n",
              "      <td>@apple #apple tech support nice. free stuff!! ...</td>\n",
              "      <td>apple tech support nice free stuff sucks ring...</td>\n",
              "      <td>POSITIVE</td>\n",
              "      <td>POSITIVE</td>\n",
              "      <td>{'neg': 0.145, 'neu': 0.347, 'pos': 0.509, 'co...</td>\n",
              "      <td>0.8154</td>\n",
              "      <td>POSITIVE</td>\n",
              "      <td>{'neg': 0.107, 'neu': 0.469, 'pos': 0.424, 'co...</td>\n",
              "      <td>POSITIVE</td>\n",
              "      <td>POSITIVE</td>\n",
              "      <td>0.233333</td>\n",
              "    </tr>\n",
              "    <tr>\n",
              "      <th>94</th>\n",
              "      <td>Apple's iPhone 6 Plus Amazingly Captures 41% o...</td>\n",
              "      <td>Apple's iPhone 6 Plus Amazingly Captures 41% o...</td>\n",
              "      <td>apple's iphone 6 plus amazingly captures 41% p...</td>\n",
              "      <td>apple s iphone plus amazingly captures phablet...</td>\n",
              "      <td>POSITIVE</td>\n",
              "      <td>NEGATIVE</td>\n",
              "      <td>{'neg': 0.0, 'neu': 1.0, 'pos': 0.0, 'compound...</td>\n",
              "      <td>0.0000</td>\n",
              "      <td>NEUTRAL</td>\n",
              "      <td>{'neg': 0.0, 'neu': 1.0, 'pos': 0.0, 'compound...</td>\n",
              "      <td>NEUTRAL</td>\n",
              "      <td>POSITIVE</td>\n",
              "      <td>0.442857</td>\n",
              "    </tr>\n",
              "    <tr>\n",
              "      <th>95</th>\n",
              "      <td>#AAPL providing another great entry point &amp;lt;...</td>\n",
              "      <td>#AAPL provide another great entry point &amp;lt; $115</td>\n",
              "      <td>#aapl provide another great entry point &amp;lt; $115</td>\n",
              "      <td>aapl provide another great entry point lt</td>\n",
              "      <td>POSITIVE</td>\n",
              "      <td>POSITIVE</td>\n",
              "      <td>{'neg': 0.0, 'neu': 0.594, 'pos': 0.406, 'comp...</td>\n",
              "      <td>0.6249</td>\n",
              "      <td>POSITIVE</td>\n",
              "      <td>{'neg': 0.0, 'neu': 0.631, 'pos': 0.369, 'comp...</td>\n",
              "      <td>POSITIVE</td>\n",
              "      <td>POSITIVE</td>\n",
              "      <td>0.800000</td>\n",
              "    </tr>\n",
              "    <tr>\n",
              "      <th>...</th>\n",
              "      <td>...</td>\n",
              "      <td>...</td>\n",
              "      <td>...</td>\n",
              "      <td>...</td>\n",
              "      <td>...</td>\n",
              "      <td>...</td>\n",
              "      <td>...</td>\n",
              "      <td>...</td>\n",
              "      <td>...</td>\n",
              "      <td>...</td>\n",
              "      <td>...</td>\n",
              "      <td>...</td>\n",
              "      <td>...</td>\n",
              "    </tr>\n",
              "    <tr>\n",
              "      <th>1577</th>\n",
              "      <td>Photo: Yaaass. Shoutout to @apple.holidays and...</td>\n",
              "      <td>Photo: Yaaass. Shoutout to @apple.holidays and...</td>\n",
              "      <td>photo: yaaass. shoutout @apple.holidays @steve...</td>\n",
              "      <td>photo yaaass shoutout amazing iphone stevejobs</td>\n",
              "      <td>POSITIVE</td>\n",
              "      <td>POSITIVE</td>\n",
              "      <td>{'neg': 0.0, 'neu': 0.568, 'pos': 0.432, 'comp...</td>\n",
              "      <td>0.6239</td>\n",
              "      <td>POSITIVE</td>\n",
              "      <td>{'neg': 0.0, 'neu': 0.761, 'pos': 0.239, 'comp...</td>\n",
              "      <td>POSITIVE</td>\n",
              "      <td>POSITIVE</td>\n",
              "      <td>0.600000</td>\n",
              "    </tr>\n",
              "    <tr>\n",
              "      <th>1581</th>\n",
              "      <td>#apple earns more #profit in on quarter than #...</td>\n",
              "      <td>#apple earn more #profit in on quarter than #a...</td>\n",
              "      <td>#apple earn #profit quarter #amazon earn lifet...</td>\n",
              "      <td>apple earn profit quarter amazon earn lifetim...</td>\n",
              "      <td>POSITIVE</td>\n",
              "      <td>POSITIVE</td>\n",
              "      <td>{'neg': 0.0, 'neu': 0.373, 'pos': 0.627, 'comp...</td>\n",
              "      <td>0.6705</td>\n",
              "      <td>POSITIVE</td>\n",
              "      <td>{'neg': 0.0, 'neu': 0.756, 'pos': 0.244, 'comp...</td>\n",
              "      <td>POSITIVE</td>\n",
              "      <td>POSITIVE</td>\n",
              "      <td>0.100000</td>\n",
              "    </tr>\n",
              "    <tr>\n",
              "      <th>1586</th>\n",
              "      <td>First tweet from my new @apple #iPhone 6 Plus....</td>\n",
              "      <td>First tweet from my new @apple #iPhone 6 Plus....</td>\n",
              "      <td>first tweet new @apple #iphone 6 plus. #newtoy</td>\n",
              "      <td>first tweet new iphone plus newtoy</td>\n",
              "      <td>POSITIVE</td>\n",
              "      <td>NEGATIVE</td>\n",
              "      <td>{'neg': 0.0, 'neu': 1.0, 'pos': 0.0, 'compound...</td>\n",
              "      <td>0.0000</td>\n",
              "      <td>NEUTRAL</td>\n",
              "      <td>{'neg': 0.0, 'neu': 1.0, 'pos': 0.0, 'compound...</td>\n",
              "      <td>NEUTRAL</td>\n",
              "      <td>POSITIVE</td>\n",
              "      <td>0.193182</td>\n",
              "    </tr>\n",
              "    <tr>\n",
              "      <th>1598</th>\n",
              "      <td>Yay @Apple customer support was super nice and...</td>\n",
              "      <td>Yay @Apple customer support be super nice and ...</td>\n",
              "      <td>yay @apple customer support super nice helpful...</td>\n",
              "      <td>yay customer support super nice helpful imessa...</td>\n",
              "      <td>POSITIVE</td>\n",
              "      <td>POSITIVE</td>\n",
              "      <td>{'neg': 0.0, 'neu': 0.161, 'pos': 0.839, 'comp...</td>\n",
              "      <td>0.9393</td>\n",
              "      <td>POSITIVE</td>\n",
              "      <td>{'neg': 0.0, 'neu': 0.391, 'pos': 0.609, 'comp...</td>\n",
              "      <td>POSITIVE</td>\n",
              "      <td>POSITIVE</td>\n",
              "      <td>0.466667</td>\n",
              "    </tr>\n",
              "    <tr>\n",
              "      <th>1610</th>\n",
              "      <td>RT @shannonmmiller: Love the @Apple is support...</td>\n",
              "      <td>RT @shannonmmiller: Love the @Apple be support...</td>\n",
              "      <td>rt @shannonmmiller: love @apple support #houro...</td>\n",
              "      <td>rt love support hourofcode workshops</td>\n",
              "      <td>POSITIVE</td>\n",
              "      <td>POSITIVE</td>\n",
              "      <td>{'neg': 0.0, 'neu': 0.303, 'pos': 0.697, 'comp...</td>\n",
              "      <td>0.8858</td>\n",
              "      <td>POSITIVE</td>\n",
              "      <td>{'neg': 0.0, 'neu': 0.464, 'pos': 0.536, 'comp...</td>\n",
              "      <td>POSITIVE</td>\n",
              "      <td>POSITIVE</td>\n",
              "      <td>0.500000</td>\n",
              "    </tr>\n",
              "  </tbody>\n",
              "</table>\n",
              "<p>98 rows × 13 columns</p>\n",
              "</div>"
            ],
            "text/plain": [
              "                                                  tweet  ... polarity_TextBlob\n",
              "33    Finally! Brooklyn Is Getting Its Own #Apple St...  ...          0.300000\n",
              "34    RT @SwiftKey: We're so excited to be named to ...  ...          1.000000\n",
              "85    @apple #apple tech support is so nice. Free st...  ...          0.233333\n",
              "94    Apple's iPhone 6 Plus Amazingly Captures 41% o...  ...          0.442857\n",
              "95    #AAPL providing another great entry point &lt;...  ...          0.800000\n",
              "...                                                 ...  ...               ...\n",
              "1577  Photo: Yaaass. Shoutout to @apple.holidays and...  ...          0.600000\n",
              "1581  #apple earns more #profit in on quarter than #...  ...          0.100000\n",
              "1586  First tweet from my new @apple #iPhone 6 Plus....  ...          0.193182\n",
              "1598  Yay @Apple customer support was super nice and...  ...          0.466667\n",
              "1610  RT @shannonmmiller: Love the @Apple is support...  ...          0.500000\n",
              "\n",
              "[98 rows x 13 columns]"
            ]
          },
          "metadata": {},
          "execution_count": 209
        }
      ]
    },
    {
      "cell_type": "code",
      "source": [
        "# Hasilnya lebih bagus malah\n",
        "model_performance(df.sentiment,df.sentiment_type_TextBlob,classes=[\"negative\",\"neutral\",\"positive\"])"
      ],
      "metadata": {
        "colab": {
          "base_uri": "https://localhost:8080/",
          "height": 601
        },
        "id": "YFoLP7ipmPEZ",
        "outputId": "b10923fe-e0c1-4724-f8ac-6f88a66c69e4"
      },
      "execution_count": null,
      "outputs": [
        {
          "output_type": "stream",
          "name": "stdout",
          "text": [
            "Accuracy:  0.5521472392638037\n",
            "Precison:  0.6902079656514812\n",
            "Recall:  0.5521472392638037\n",
            "F1 Score:  0.5849428240053802\n",
            "Model Report: \n",
            "___________________________________________________\n",
            "              precision    recall  f1-score   support\n",
            "\n",
            "    NEGATIVE       0.84      0.46      0.59       686\n",
            "     NEUTRAL       0.65      0.61      0.63       801\n",
            "    POSITIVE       0.19      0.69      0.30       143\n",
            "\n",
            "    accuracy                           0.55      1630\n",
            "   macro avg       0.56      0.58      0.51      1630\n",
            "weighted avg       0.69      0.55      0.58      1630\n",
            "\n"
          ]
        },
        {
          "output_type": "display_data",
          "data": {
            "image/png": "[encoded data removed]",
            "text/plain": [
              "<Figure size 432x288 with 2 Axes>"
            ]
          },
          "metadata": {
            "needs_background": "light"
          }
        }
      ]
    }
  ]
}